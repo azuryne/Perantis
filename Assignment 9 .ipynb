{
 "cells": [
  {
   "cell_type": "code",
   "execution_count": 9,
   "id": "4b60a55c-38c4-4b44-9d6e-1513a9447bde",
   "metadata": {},
   "outputs": [
    {
     "data": {
      "text/plain": [
       "array([[15,  8, 22, 18, 11,  7],\n",
       "       [34, 31, 11, 21, 31, 26],\n",
       "       [20,  3,  4, 33,  3,  5],\n",
       "       [24,  4,  6, 31, 19, 31],\n",
       "       [ 2, 16, 12,  4, 26, 15],\n",
       "       [ 8, 15,  8, 17, 22,  9]])"
      ]
     },
     "execution_count": 9,
     "metadata": {},
     "output_type": "execute_result"
    }
   ],
   "source": [
    "import numpy as np \n",
    "\n",
    "np.random.seed(2)\n",
    "\n",
    "a = np.random.randint(0, 36,(6,6))\n",
    "a"
   ]
  },
  {
   "cell_type": "code",
   "execution_count": 10,
   "id": "5b6995e9-98f5-4ef4-97cc-f14dd3bdebca",
   "metadata": {},
   "outputs": [
    {
     "name": "stdout",
     "output_type": "stream",
     "text": [
      "[[1 0 0 0 0 0]\n",
      " [0 1 0 0 0 0]\n",
      " [0 0 1 0 0 0]\n",
      " [0 0 0 1 0 0]\n",
      " [0 0 0 0 1 0]\n",
      " [0 0 0 0 0 1]]\n"
     ]
    }
   ],
   "source": [
    "#convert into identity \n",
    "\n",
    "row = a.shape[0]\n",
    "col = a.shape[1]\n",
    "\n",
    "for i in range (row):\n",
    "    for j in range (col):\n",
    "        if i == j: \n",
    "            a[i,j] = 1\n",
    "        else:\n",
    "            a[i,j] = 0\n",
    "\n",
    "print(a)"
   ]
  },
  {
   "cell_type": "code",
   "execution_count": 11,
   "id": "6748f4d8-55fb-4d2f-a468-2f638f05f77e",
   "metadata": {},
   "outputs": [
    {
     "name": "stdout",
     "output_type": "stream",
     "text": [
      "[[1. 0. 0. 0. 0. 0.]\n",
      " [0. 1. 0. 0. 0. 0.]\n",
      " [0. 0. 1. 0. 0. 0.]\n",
      " [0. 0. 0. 1. 0. 0.]\n",
      " [0. 0. 0. 0. 1. 0.]\n",
      " [0. 0. 0. 0. 0. 1.]]\n"
     ]
    }
   ],
   "source": [
    "# alternative using inverse dot product \n",
    "\n",
    "a_1 = np.linalg.inv(a)\n",
    "a = a_1 @ a\n",
    "print(a)"
   ]
  },
  {
   "cell_type": "code",
   "execution_count": null,
   "id": "04e002ed-0b7c-4b71-bf55-da934943aab6",
   "metadata": {},
   "outputs": [],
   "source": []
  }
 ],
 "metadata": {
  "kernelspec": {
   "display_name": "Python 3",
   "language": "python",
   "name": "python3"
  },
  "language_info": {
   "codemirror_mode": {
    "name": "ipython",
    "version": 3
   },
   "file_extension": ".py",
   "mimetype": "text/x-python",
   "name": "python",
   "nbconvert_exporter": "python",
   "pygments_lexer": "ipython3",
   "version": "3.8.8"
  }
 },
 "nbformat": 4,
 "nbformat_minor": 5
}

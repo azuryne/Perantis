{
 "cells": [
  {
   "cell_type": "markdown",
   "id": "930cb2df-6630-4985-964f-b424e3dfa80e",
   "metadata": {},
   "source": [
    "1. Create an array of shape (10, 10) with uint8 random values"
   ]
  },
  {
   "cell_type": "code",
   "execution_count": 21,
   "id": "ad942239-6e4e-40b1-9dc7-8297a1c5d260",
   "metadata": {},
   "outputs": [
    {
     "name": "stdout",
     "output_type": "stream",
     "text": [
      "[[126 255 202 254  46  23  48 187  35  27]\n",
      " [ 52   1 207 199  89  70  44  63 211 151]\n",
      " [177 138  94  44 176 255 166  47  80 223]\n",
      " [193 239 175  67  14 194 139 196   2 108]\n",
      " [102 203 174 234 173 109 161 209 145 164]\n",
      " [ 75  95 196 184 103 115 248   4  89 202]\n",
      " [ 11  72  46 177 128 211  70  32  15 145]\n",
      " [220 146 247 134  91 255 223 254  41 110]\n",
      " [ 48 197 177  39  10  61 191 180 210  16]\n",
      " [ 58 117  45  21 249  30 162 193  54  53]]\n"
     ]
    }
   ],
   "source": [
    "import numpy as np \n",
    "\n",
    "array_1 = np.random.randint(0, 256, (10, 10), dtype = np.uint8) \n",
    "\n",
    "print(array_1)"
   ]
  },
  {
   "cell_type": "markdown",
   "id": "c04d57a1-3203-411a-980a-1f9f891ef1e8",
   "metadata": {},
   "source": [
    "2. Print the shape, size and dimension"
   ]
  },
  {
   "cell_type": "code",
   "execution_count": 22,
   "id": "acaff1c0-260b-4cca-909d-66a1ec6604c7",
   "metadata": {},
   "outputs": [
    {
     "name": "stdout",
     "output_type": "stream",
     "text": [
      "array_1 shape:  (10, 10)\n",
      "\n",
      "array_1_size:  100\n",
      "\n",
      "array_1_dimension:  2\n"
     ]
    }
   ],
   "source": [
    "print(\"array_1 shape: \", array_1.shape)\n",
    "print()\n",
    "print(\"array_1_size: \", array_1.size)\n",
    "print()\n",
    "print(\"array_1_dimension: \", array_1.ndim)"
   ]
  },
  {
   "cell_type": "markdown",
   "id": "f24d2ade-f382-4195-86fe-a13e78c226d0",
   "metadata": {},
   "source": [
    "3. Compute the sum of the third row to the last row"
   ]
  },
  {
   "cell_type": "code",
   "execution_count": 23,
   "id": "6e776b81-17bb-45f8-8af9-44f3a9560018",
   "metadata": {},
   "outputs": [
    {
     "name": "stdout",
     "output_type": "stream",
     "text": [
      "[[177 138  94  44 176 255 166  47  80 223]\n",
      " [193 239 175  67  14 194 139 196   2 108]\n",
      " [102 203 174 234 173 109 161 209 145 164]\n",
      " [ 75  95 196 184 103 115 248   4  89 202]\n",
      " [ 11  72  46 177 128 211  70  32  15 145]\n",
      " [220 146 247 134  91 255 223 254  41 110]\n",
      " [ 48 197 177  39  10  61 191 180 210  16]\n",
      " [ 58 117  45  21 249  30 162 193  54  53]]\n",
      "\n",
      "Total elements from third to last row:  10451\n"
     ]
    }
   ],
   "source": [
    "print(array_1[2 : 10])\n",
    "print()\n",
    "total = np.sum(array_1[2 : 10])\n",
    "print(\"Total elements from third to last row: \", total)\n"
   ]
  },
  {
   "cell_type": "markdown",
   "id": "f9fcd6f9-5a80-4b56-89de-20bb45d4e334",
   "metadata": {},
   "source": [
    "4. Compute the average of the columns"
   ]
  },
  {
   "cell_type": "code",
   "execution_count": 24,
   "id": "e3335701-e5db-4163-8084-d01560a61845",
   "metadata": {},
   "outputs": [
    {
     "name": "stdout",
     "output_type": "stream",
     "text": [
      "Total of all elements in array:  12741\n",
      "Average of elements by columns:  1274.1\n"
     ]
    }
   ],
   "source": [
    "total_all = np.sum(array_1[:])\n",
    "print(\"Total of all elements in array: \", total_all)\n",
    "\n",
    "average = total_all/np.shape(array_1)[0] # [0] represent no. of columns\n",
    "print(\"Average of elements by columns: \", average)"
   ]
  }
 ],
 "metadata": {
  "kernelspec": {
   "display_name": "Python 3",
   "language": "python",
   "name": "python3"
  },
  "language_info": {
   "codemirror_mode": {
    "name": "ipython",
    "version": 3
   },
   "file_extension": ".py",
   "mimetype": "text/x-python",
   "name": "python",
   "nbconvert_exporter": "python",
   "pygments_lexer": "ipython3",
   "version": "3.8.8"
  }
 },
 "nbformat": 4,
 "nbformat_minor": 5
}

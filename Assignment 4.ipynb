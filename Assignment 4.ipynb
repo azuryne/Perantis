{
 "cells": [
  {
   "cell_type": "markdown",
   "id": "66a6f85a-788d-46fa-bb22-5282ef321c56",
   "metadata": {},
   "source": [
    "### Assignment \n",
    "1. Write a function to Calculate S = 1+2+...+n \n",
    "    a) a simple way \n",
    "    b) via recursive function\n",
    "2. Write a function to create Fibonacci sequence (0,1,2,3,5, .........) \n",
    "\n",
    "TIP: The function gets the number of term and produce the terms from 0 to the n \n",
    "NOTE: once without recursion, another time with recursion "
   ]
  },
  {
   "cell_type": "code",
   "execution_count": 20,
   "id": "6282cace-e3fe-4646-a444-c25f66b755d9",
   "metadata": {},
   "outputs": [
    {
     "name": "stdin",
     "output_type": "stream",
     "text": [
      "Enter n:  4\n"
     ]
    },
    {
     "name": "stdout",
     "output_type": "stream",
     "text": [
      "1\n",
      "2\n",
      "3\n",
      "4\n",
      "total is  10\n"
     ]
    }
   ],
   "source": [
    "# Question 1 \n",
    "\n",
    "n = int(input(\"Enter n: \"))\n",
    "\n",
    "def fibonacci(n):\n",
    "    total = 0 \n",
    "    for i in range (1, n+1):\n",
    "        total +=i \n",
    "        print(i)\n",
    "    print(\"total is \", total)\n",
    "\n",
    "fibonacci(n)"
   ]
  },
  {
   "cell_type": "code",
   "execution_count": 24,
   "id": "3b603cfd-c777-4750-bb95-9aedb49b588b",
   "metadata": {},
   "outputs": [
    {
     "name": "stdin",
     "output_type": "stream",
     "text": [
      "Enter n:  4\n"
     ]
    },
    {
     "name": "stdout",
     "output_type": "stream",
     "text": [
      "Fibonacci sequence is\n",
      "1\n",
      "2\n",
      "3\n",
      "4\n",
      "Total is : 10.0\n"
     ]
    }
   ],
   "source": [
    "# Question 2 \n",
    "\n",
    "def fibonacci1(n):\n",
    "    if n == 1: \n",
    "        return 0\n",
    "    else:\n",
    "        print(\"Fibonacci sequence is\")\n",
    "        for i in range (1, n+1):\n",
    "            print(i)\n",
    "        return ((n*(n + 1)) / 2)\n",
    "\n",
    "n = int(input(\"Enter n: \"))\n",
    "print (\"Total is :\", fibonacci1(n))\n"
   ]
  },
  {
   "cell_type": "markdown",
   "id": "e3fdf14f-de8e-4786-8063-9623b55a18fa",
   "metadata": {},
   "source": [
    "### Assignment: \n",
    "#### Write down a function to produce this statement: \n",
    "        f (x, y, z) = 2x^2 + 2y + z (use lambda function)"
   ]
  },
  {
   "cell_type": "code",
   "execution_count": 64,
   "id": "5d9cbd41-8b84-406f-86ed-712312587a01",
   "metadata": {},
   "outputs": [
    {
     "name": "stdin",
     "output_type": "stream",
     "text": [
      "Enter x:  1\n",
      "Enter y:  2\n",
      "Enter z:  3\n"
     ]
    },
    {
     "name": "stdout",
     "output_type": "stream",
     "text": [
      "None\n"
     ]
    }
   ],
   "source": [
    "# FIND WHY IT DOESN'T WORKS \n",
    "\n",
    "\n",
    "func1 = lambda x, y, z : (2 * x ** 2) + (2 * y) + z\n",
    "\n",
    "print(func1(int(input(\"Enter x: \")), (input(\"Enter y: \")), (input(\"Enter z: \"))))\n",
    "\n",
    "\n"
   ]
  },
  {
   "cell_type": "code",
   "execution_count": 45,
   "id": "89c5305d-c9d6-4ef1-a7d6-3a46a9ccb598",
   "metadata": {},
   "outputs": [
    {
     "name": "stdout",
     "output_type": "stream",
     "text": [
      "<function <lambda> at 0x7fe8e71335e0>\n"
     ]
    }
   ],
   "source": [
    "z = lambda a, b: int(input('a:')) + int(input('b:'))\n",
    "##print(z(int(input(\"Enter a: \")), (input(\"Enter b: \"))))\n"
   ]
  },
  {
   "cell_type": "code",
   "execution_count": 37,
   "id": "e5af332e-9cfa-4e73-bf27-d361682c6435",
   "metadata": {},
   "outputs": [
    {
     "name": "stdin",
     "output_type": "stream",
     "text": [
      "enter numbers x, y, z:  1 2 3\n"
     ]
    },
    {
     "name": "stdout",
     "output_type": "stream",
     "text": [
      "9\n"
     ]
    }
   ],
   "source": [
    "func1 = lambda x, y, z: (2 * x ** 2) + (2 * y) + z\n",
    "your_input = func1(*map(int,input(\"enter numbers x, y, z: \").split()))\n",
    "print(your_input)"
   ]
  },
  {
   "cell_type": "markdown",
   "id": "2bd4d512-5847-4c5b-a7c3-221ee2b012d4",
   "metadata": {},
   "source": [
    "#### Assignment \n",
    "\n",
    "1. Find out the other functions to form date and time of now and try to use "
   ]
  },
  {
   "cell_type": "code",
   "execution_count": 46,
   "id": "2ce96859-1dff-4267-8a2b-26b4d49a1319",
   "metadata": {},
   "outputs": [
    {
     "name": "stdout",
     "output_type": "stream",
     "text": [
      "d1 = 01/11/2021\n",
      "d2 = November 01, 2021\n",
      "d3 = 11/01/21\n",
      "d4 = Nov-01-2021\n"
     ]
    }
   ],
   "source": [
    "from datetime import date\n",
    "\n",
    "today = date.today()\n",
    "\n",
    "# dd/mm/YY\n",
    "d1 = today.strftime(\"%d/%m/%Y\")\n",
    "print(\"d1 =\", d1)\n",
    "\n",
    "# Textual month, day and year\t\n",
    "d2 = today.strftime(\"%B %d, %Y\")\n",
    "print(\"d2 =\", d2)\n",
    "\n",
    "# mm/dd/y\n",
    "d3 = today.strftime(\"%m/%d/%y\")\n",
    "print(\"d3 =\", d3)\n",
    "\n",
    "# Month abbreviation, day and year\t\n",
    "d4 = today.strftime(\"%b-%d-%Y\")\n",
    "print(\"d4 =\", d4)"
   ]
  },
  {
   "cell_type": "code",
   "execution_count": 65,
   "id": "fe6ea370-385a-4153-92c5-32e38cd62c15",
   "metadata": {},
   "outputs": [
    {
     "name": "stdout",
     "output_type": "stream",
     "text": [
      "Today's date:  01/11/2021\n",
      "Today's date:  November 01, 2021\n",
      "Today's date:  01/11/21\n",
      "Today's date:  Nov 01 2021\n",
      "Today's date and time:  01/11/2021 07:43:53\n",
      "Current year:  2021\n"
     ]
    }
   ],
   "source": [
    "from datetime import date \n",
    "import datetime\n",
    "\n",
    "today = date.today()\n",
    "\n",
    "#format dd/mm/YY (full)\n",
    "d1 = today.strftime(\"%d/%m/%Y\")\n",
    "print(\"Today's date: \", d1)\n",
    "\n",
    "#format literal month, dd, yy\n",
    "d2 = today.strftime(\"%B %d, %Y\")\n",
    "print(\"Today's date: \", d2)\n",
    "\n",
    "#format dd/mm/yy (short)\n",
    "d3 = today.strftime(\"%d/%m/%y\")\n",
    "print(\"Today's date: \", d3)\n",
    "\n",
    "#format moth abbreviation \n",
    "d4 = today.strftime(\"%b %d %Y\")\n",
    "print(\"Today's date: \", d4)\n",
    "\n",
    "time_today = datetime.datetime.now()\n",
    "d5 = time_today.strftime(\"%d/%m/%Y %H:%M:%S\")\n",
    "print(\"Today's date and time: \", d5)\n",
    "\n",
    "print(\"Current year: \", today.year)"
   ]
  },
  {
   "cell_type": "markdown",
   "id": "207c0e5a-e9d5-45a0-ad39-669cc2a66319",
   "metadata": {},
   "source": [
    "#### Assignment \n",
    "1. Find out other math function in math module and try to use them "
   ]
  },
  {
   "cell_type": "code",
   "execution_count": 90,
   "id": "4eb3d733-d76e-4991-ab93-979511911d28",
   "metadata": {},
   "outputs": [
    {
     "name": "stdin",
     "output_type": "stream",
     "text": [
      "Enter number:  1\n"
     ]
    },
    {
     "name": "stdout",
     "output_type": "stream",
     "text": [
      "Logarithmic of 1 is 0.000\n",
      "Sine of 1 is 0.841\n",
      "Radians of 1 is 0.017\n",
      "Degree of 1 is 180.0°\n",
      "Exponentioal of 1 is 2.718\n"
     ]
    }
   ],
   "source": [
    "import math\n",
    "\n",
    "x = int(input(\"Enter number: \"))\n",
    "print(f\"Logarithmic of {x} is {math.log(x):.3f}\")\n",
    "print(f\"Sine of {x} is {math.sin(x):.3f}\")\n",
    "print(f\"Radians of {x} is {math.radians(x):.3f}\")\n",
    "print(f\"Degree of {x} is {math.degrees(math.pi/x)}\\N{DEGREE SIGN}\")\n",
    "print(f\"Exponentioal of {x} is {math.exp(x):.3f}\")"
   ]
  },
  {
   "cell_type": "markdown",
   "id": "a53ef279-4db6-4931-b1bb-7c7e533fd371",
   "metadata": {},
   "source": [
    "#### ASSIGNMENT \n",
    "\n",
    "1. Create a module with your name and import functions of the previous assignment to it\n",
    "- try to use them in another file \n",
    "2. Check the existing functions in math module "
   ]
  },
  {
   "cell_type": "code",
   "execution_count": 121,
   "id": "5d0dd9d3-3514-4643-9fda-42150a5ed19f",
   "metadata": {},
   "outputs": [
    {
     "name": "stdout",
     "output_type": "stream",
     "text": [
      "Hello Azureen\n",
      "0\n",
      "1\n",
      "2\n",
      "3\n",
      "4\n",
      "5\n",
      "6\n",
      "7\n",
      "8\n",
      "9\n",
      "Thank you for using this module,  AZZU\n"
     ]
    }
   ],
   "source": [
    "import ryne\n",
    "\n",
    "ryne.greeting(\"Azureen\")\n",
    "ryne.count(9)\n",
    "ryne.tq(\"AZZU\")"
   ]
  },
  {
   "cell_type": "code",
   "execution_count": 122,
   "id": "bd5fb2c6-f793-4fcc-a7e5-df0212035949",
   "metadata": {},
   "outputs": [
    {
     "name": "stdout",
     "output_type": "stream",
     "text": [
      "['__doc__', '__file__', '__loader__', '__name__', '__package__', '__spec__', 'acos', 'acosh', 'asin', 'asinh', 'atan', 'atan2', 'atanh', 'ceil', 'comb', 'copysign', 'cos', 'cosh', 'degrees', 'dist', 'e', 'erf', 'erfc', 'exp', 'expm1', 'fabs', 'factorial', 'floor', 'fmod', 'frexp', 'fsum', 'gamma', 'gcd', 'hypot', 'inf', 'isclose', 'isfinite', 'isinf', 'isnan', 'isqrt', 'ldexp', 'lgamma', 'log', 'log10', 'log1p', 'log2', 'modf', 'nan', 'perm', 'pi', 'pow', 'prod', 'radians', 'remainder', 'sin', 'sinh', 'sqrt', 'tan', 'tanh', 'tau', 'trunc']\n"
     ]
    }
   ],
   "source": [
    "import math \n",
    "print(dir(math))"
   ]
  },
  {
   "cell_type": "markdown",
   "id": "bfc6f1f8-7a06-47eb-9636-9a4a8053b089",
   "metadata": {},
   "source": [
    "### Assignment \n",
    "1. Create a package with these modules \n",
    "- 1.1 A module (FileHandling) that has function for creating, writing and reading the file. The file name will be sent by an argument\n",
    "- 1.2 A module (destroy): get the file name and delete the file\n",
    "- 1.3 Use the package and all the module in your code "
   ]
  },
  {
   "cell_type": "code",
   "execution_count": 2,
   "id": "7e51a6a6-d23a-4bfa-bb39-6e9a94b34371",
   "metadata": {},
   "outputs": [
    {
     "name": "stdin",
     "output_type": "stream",
     "text": [
      "Favourite Shows:  ANIME\n",
      "1:  AOT\n",
      "2:  Black clover\n",
      "3:  gintama\n"
     ]
    }
   ],
   "source": [
    "from reenpackage import FileHandling\n",
    "\n",
    "FileHandling.create(\"Azzu.txt\")\n",
    "FileHandling.write(\"Azzu.txt\")\n"
   ]
  },
  {
   "cell_type": "code",
   "execution_count": 3,
   "id": "c92d342d-2aab-45c9-9db7-3bf1f1ec2b27",
   "metadata": {},
   "outputs": [
    {
     "name": "stdout",
     "output_type": "stream",
     "text": [
      "ANIME\n",
      "\n",
      "AOT\n",
      "\n",
      "Black clover\n",
      "\n",
      "gintama\n"
     ]
    }
   ],
   "source": [
    "FileHandling.read(\"Azzu.txt\")"
   ]
  },
  {
   "cell_type": "code",
   "execution_count": 4,
   "id": "91e88873-d654-46d1-8051-85df42c15de8",
   "metadata": {},
   "outputs": [
    {
     "name": "stdout",
     "output_type": "stream",
     "text": [
      "File does not exist\n"
     ]
    }
   ],
   "source": [
    "from reenpackage import destroy\n",
    "\n",
    "destroy.delete(\"Azzu.txt\")"
   ]
  },
  {
   "cell_type": "code",
   "execution_count": null,
   "id": "cb7732c5-58a5-4750-8994-25594f394c7d",
   "metadata": {},
   "outputs": [],
   "source": []
  }
 ],
 "metadata": {
  "kernelspec": {
   "display_name": "Python 3",
   "language": "python",
   "name": "python3"
  },
  "language_info": {
   "codemirror_mode": {
    "name": "ipython",
    "version": 3
   },
   "file_extension": ".py",
   "mimetype": "text/x-python",
   "name": "python",
   "nbconvert_exporter": "python",
   "pygments_lexer": "ipython3",
   "version": "3.8.8"
  }
 },
 "nbformat": 4,
 "nbformat_minor": 5
}

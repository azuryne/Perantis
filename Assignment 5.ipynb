{
 "cells": [
  {
   "cell_type": "code",
   "execution_count": 20,
   "id": "2975688d-57bb-418a-982e-93584f5665f3",
   "metadata": {},
   "outputs": [
    {
     "name": "stdin",
     "output_type": "stream",
     "text": [
      "Please enter your name:  azu\n",
      "Please enter your matric number:  12\n",
      "Please enter your course:  engineering\n",
      "Enter passed subjects:  Math\n",
      "Enter marks: 90\n"
     ]
    },
    {
     "name": "stdout",
     "output_type": "stream",
     "text": [
      "Passed subject and marks:  {'Math': 90}\n"
     ]
    },
    {
     "name": "stdin",
     "output_type": "stream",
     "text": [
      "Enter passed subjects:  C\n",
      "Enter marks: 98\n"
     ]
    },
    {
     "name": "stdout",
     "output_type": "stream",
     "text": [
      "Passed subject and marks:  {'Math': 90, 'C': 98}\n"
     ]
    },
    {
     "name": "stdin",
     "output_type": "stream",
     "text": [
      "Enter failed subjects:  Java\n",
      "Enter failed marks:  50\n"
     ]
    },
    {
     "name": "stdout",
     "output_type": "stream",
     "text": [
      "Failed subject and marks:  {'Java': 50}\n"
     ]
    },
    {
     "name": "stdin",
     "output_type": "stream",
     "text": [
      "Enter failed subjects:  emt\n",
      "Enter failed marks:  45\n"
     ]
    },
    {
     "name": "stdout",
     "output_type": "stream",
     "text": [
      "Failed subject and marks:  {'Java': 50, 'emt': 45}\n",
      "\n",
      "Name: azu\n",
      "Matric No:  12\n",
      "Course: engineering\n",
      "\n",
      "Student Major:  {'Java', 'BI', 'Python', 'Math'}\n",
      "Average Marks:  70.75\n",
      "Passed Subject:  {'Math': 90, 'C': 98}\n",
      "Failed Subject:  {'Java': 50, 'emt': 45}\n",
      "Required Course:  {'Java', 'emt', 'BI', 'Python'}\n"
     ]
    }
   ],
   "source": [
    "class Student: \n",
    "    def __init__(self, name, matric_no, course):\n",
    "        self.name = name\n",
    "        self.matric_no = matric_no \n",
    "        self.course = course\n",
    "    \n",
    "    def info_(self):\n",
    "        print(\"\\nName: \" + self.name)  #Operand for str \n",
    "        print(\"Matric No: \", self.matric_no) #Operand for int\n",
    "        print(\"Course: \" + self.course) #Operand for str\n",
    "        print()\n",
    "\n",
    "        \n",
    "class BSCStudent(Student):\n",
    "    def __init__(self, name, matric_no, course, major, passed, failed, average, reqCourse):\n",
    "        super().__init__(name, matric_no, course)\n",
    "        self.major = major \n",
    "        self.passed = passed\n",
    "        self.failed = failed\n",
    "        self.average = average\n",
    "        self.reqCourse = reqCourse\n",
    "    \n",
    "    def avg(self): \n",
    "        pass\n",
    "        \n",
    "    \n",
    "    def req_Course(self):\n",
    "        pass\n",
    "    \n",
    "    def printInfo(self):\n",
    "        super().info_()\n",
    "        print(\"Student Major: \", self.major)\n",
    "        print(\"Average Marks: \", self.average)\n",
    "        print(\"Passed Subject: \", self.passed)\n",
    "        print(\"Failed Subject: \", self.failed)\n",
    "        print(\"Required Course: \", self.reqCourse)\n",
    "        \n",
    "    \n",
    "students = 1 \n",
    "\n",
    "for i in range (students):\n",
    "    name = input(\"Please enter your name: \")\n",
    "    matric_no = int(input(\"Please enter your matric number: \"))\n",
    "    course = input(\"Please enter your course: \")\n",
    "    major = {\"BI\", \"Math\", \"Python\", \"Java\"}\n",
    "\n",
    "    passed = {}\n",
    "\n",
    "    for i in range(2):\n",
    "        key = input(\"Enter passed subjects: \")\n",
    "        values = int(input(\"Enter marks:\"))\n",
    "        passed[key] = values\n",
    "        print(\"Passed subject and marks: \", passed)\n",
    "\n",
    "        \n",
    "    failed = {}\n",
    "    \n",
    "    for i in range(2):\n",
    "        key = input(\"Enter failed subjects: \")\n",
    "        values = int(input(\"Enter failed marks: \"))\n",
    "        failed[key] = values\n",
    "        print(\"Failed subject and marks: \", failed)\n",
    "\n",
    "    allMark = (sum(passed.values()) + sum(failed.values()))\n",
    "    total = (len(passed)+len(failed)) \n",
    "    average = allMark / total \n",
    "\n",
    "    reqCourse = (major.difference(passed))\n",
    "    reqCourse = (reqCourse.union(failed))\n",
    "\n",
    "    s = BSCStudent(name, matric_no, course, major, passed, failed, average, reqCourse)\n",
    "    s.printInfo()"
   ]
  }
 ],
 "metadata": {
  "kernelspec": {
   "display_name": "Python 3",
   "language": "python",
   "name": "python3"
  },
  "language_info": {
   "codemirror_mode": {
    "name": "ipython",
    "version": 3
   },
   "file_extension": ".py",
   "mimetype": "text/x-python",
   "name": "python",
   "nbconvert_exporter": "python",
   "pygments_lexer": "ipython3",
   "version": "3.8.8"
  }
 },
 "nbformat": 4,
 "nbformat_minor": 5
}

{
 "cells": [
  {
   "cell_type": "markdown",
   "id": "debb6087-cf73-425c-8eda-ed201e3f7191",
   "metadata": {},
   "source": [
    "### Assignment \n",
    "\n",
    "1. create a 3D data of shape 10x5x3 with values equal zero \n",
    "2. create another array with value 255 and shape 10x5x3 \n",
    "3. join the 2 array horizontally \n",
    "4. create an array of random uint 8 with shape (50x50x3) \n",
    "5. convert the array from q4, top part to red and bottom part to green \n",
    "6. seed value is 11 \n",
    "7. display / show each data "
   ]
  },
  {
   "cell_type": "code",
   "execution_count": 114,
   "id": "33135f58-b39a-498a-b261-c0deb6e873fd",
   "metadata": {},
   "outputs": [],
   "source": [
    "def array_properties(a):\n",
    "    print(\"array: \\n \", a)\n",
    "    print(\"array shape:\", a.shape)\n",
    "    print(\"array dimension: \", a.ndim)\n",
    "    print(\"array datatype: \", a.dtype)\n",
    "    print(\"array size: \", a.size)\n",
    "    print()"
   ]
  },
  {
   "cell_type": "code",
   "execution_count": 115,
   "id": "0ec9bbc5-6f90-4f5e-ad8e-f65ab0f2cdaf",
   "metadata": {},
   "outputs": [
    {
     "name": "stdout",
     "output_type": "stream",
     "text": [
      "array: \n",
      "  [[[0 0 0]\n",
      "  [0 0 0]\n",
      "  [0 0 0]\n",
      "  [0 0 0]\n",
      "  [0 0 0]]\n",
      "\n",
      " [[0 0 0]\n",
      "  [0 0 0]\n",
      "  [0 0 0]\n",
      "  [0 0 0]\n",
      "  [0 0 0]]\n",
      "\n",
      " [[0 0 0]\n",
      "  [0 0 0]\n",
      "  [0 0 0]\n",
      "  [0 0 0]\n",
      "  [0 0 0]]\n",
      "\n",
      " [[0 0 0]\n",
      "  [0 0 0]\n",
      "  [0 0 0]\n",
      "  [0 0 0]\n",
      "  [0 0 0]]\n",
      "\n",
      " [[0 0 0]\n",
      "  [0 0 0]\n",
      "  [0 0 0]\n",
      "  [0 0 0]\n",
      "  [0 0 0]]\n",
      "\n",
      " [[0 0 0]\n",
      "  [0 0 0]\n",
      "  [0 0 0]\n",
      "  [0 0 0]\n",
      "  [0 0 0]]\n",
      "\n",
      " [[0 0 0]\n",
      "  [0 0 0]\n",
      "  [0 0 0]\n",
      "  [0 0 0]\n",
      "  [0 0 0]]\n",
      "\n",
      " [[0 0 0]\n",
      "  [0 0 0]\n",
      "  [0 0 0]\n",
      "  [0 0 0]\n",
      "  [0 0 0]]\n",
      "\n",
      " [[0 0 0]\n",
      "  [0 0 0]\n",
      "  [0 0 0]\n",
      "  [0 0 0]\n",
      "  [0 0 0]]\n",
      "\n",
      " [[0 0 0]\n",
      "  [0 0 0]\n",
      "  [0 0 0]\n",
      "  [0 0 0]\n",
      "  [0 0 0]]]\n",
      "array shape: (10, 5, 3)\n",
      "array dimension:  3\n",
      "array datatype:  int32\n",
      "array size:  150\n",
      "\n"
     ]
    }
   ],
   "source": [
    "#Q1\n",
    "\n",
    "import numpy as np\n",
    "import matplotlib.pyplot as plt\n",
    "\n",
    "a = np.zeros((10, 5, 3), dtype = np.int32)\n",
    "\n",
    "array_properties(a)"
   ]
  },
  {
   "cell_type": "code",
   "execution_count": 116,
   "id": "5864359b-569e-4ea5-b87d-e51bbd045561",
   "metadata": {},
   "outputs": [
    {
     "data": {
      "image/png": "[encoded data removed]",
      "text/plain": [
       "<Figure size 720x720 with 1 Axes>"
      ]
     },
     "metadata": {
      "needs_background": "light"
     },
     "output_type": "display_data"
    }
   ],
   "source": [
    "plt.figure(figsize =(10, 10))\n",
    "plt.imshow(a)\n",
    "plt.title('array a')\n",
    "plt.show()"
   ]
  },
  {
   "cell_type": "code",
   "execution_count": 130,
   "id": "dc0f5cf5-77c1-4d72-b8e3-7086b8e0e716",
   "metadata": {},
   "outputs": [
    {
     "name": "stdout",
     "output_type": "stream",
     "text": [
      "array: \n",
      "  [[[255 255 255]\n",
      "  [255 255 255]\n",
      "  [255 255 255]\n",
      "  [255 255 255]\n",
      "  [255 255 255]]\n",
      "\n",
      " [[255 255 255]\n",
      "  [255 255 255]\n",
      "  [255 255 255]\n",
      "  [255 255 255]\n",
      "  [255 255 255]]\n",
      "\n",
      " [[255 255 255]\n",
      "  [255 255 255]\n",
      "  [255 255 255]\n",
      "  [255 255 255]\n",
      "  [255 255 255]]\n",
      "\n",
      " [[255 255 255]\n",
      "  [255 255 255]\n",
      "  [255 255 255]\n",
      "  [255 255 255]\n",
      "  [255 255 255]]\n",
      "\n",
      " [[255 255 255]\n",
      "  [255 255 255]\n",
      "  [255 255 255]\n",
      "  [255 255 255]\n",
      "  [255 255 255]]\n",
      "\n",
      " [[255 255 255]\n",
      "  [255 255 255]\n",
      "  [255 255 255]\n",
      "  [255 255 255]\n",
      "  [255 255 255]]\n",
      "\n",
      " [[255 255 255]\n",
      "  [255 255 255]\n",
      "  [255 255 255]\n",
      "  [255 255 255]\n",
      "  [255 255 255]]\n",
      "\n",
      " [[255 255 255]\n",
      "  [255 255 255]\n",
      "  [255 255 255]\n",
      "  [255 255 255]\n",
      "  [255 255 255]]\n",
      "\n",
      " [[255 255 255]\n",
      "  [255 255 255]\n",
      "  [255 255 255]\n",
      "  [255 255 255]\n",
      "  [255 255 255]]\n",
      "\n",
      " [[255 255 255]\n",
      "  [255 255 255]\n",
      "  [255 255 255]\n",
      "  [255 255 255]\n",
      "  [255 255 255]]]\n",
      "array shape: (10, 5, 3)\n",
      "array dimension:  3\n",
      "array datatype:  int64\n",
      "array size:  150\n",
      "\n"
     ]
    }
   ],
   "source": [
    "#Q2\n",
    "\n",
    "b = np.arange(0, 150).reshape(10, 5, 3)\n",
    "\n",
    "b[:,:] = 255 \n",
    "\n",
    "array_properties(b)\n"
   ]
  },
  {
   "cell_type": "code",
   "execution_count": 118,
   "id": "b06b3591-3622-428f-9210-4ac445e6e044",
   "metadata": {},
   "outputs": [
    {
     "data": {
      "image/png": "[encoded data removed]",
      "text/plain": [
       "<Figure size 720x720 with 1 Axes>"
      ]
     },
     "metadata": {
      "needs_background": "light"
     },
     "output_type": "display_data"
    }
   ],
   "source": [
    "plt.figure(figsize =(10, 10))\n",
    "plt.imshow(b)\n",
    "plt.title('array b')\n",
    "plt.show()"
   ]
  },
  {
   "cell_type": "code",
   "execution_count": 119,
   "id": "4a34c7bd-0e2a-4278-8b6f-47794171dcce",
   "metadata": {},
   "outputs": [
    {
     "name": "stdout",
     "output_type": "stream",
     "text": [
      "a shape:  (10, 5, 3)\n",
      "b shape:  (10, 5, 3)\n",
      "\n",
      "array: \n",
      "  [[[  0   0   0]\n",
      "  [  0   0   0]\n",
      "  [  0   0   0]\n",
      "  [  0   0   0]\n",
      "  [  0   0   0]\n",
      "  [255 255 255]\n",
      "  [255 255 255]\n",
      "  [255 255 255]\n",
      "  [255 255 255]\n",
      "  [255 255 255]]\n",
      "\n",
      " [[  0   0   0]\n",
      "  [  0   0   0]\n",
      "  [  0   0   0]\n",
      "  [  0   0   0]\n",
      "  [  0   0   0]\n",
      "  [255 255 255]\n",
      "  [255 255 255]\n",
      "  [255 255 255]\n",
      "  [255 255 255]\n",
      "  [255 255 255]]\n",
      "\n",
      " [[  0   0   0]\n",
      "  [  0   0   0]\n",
      "  [  0   0   0]\n",
      "  [  0   0   0]\n",
      "  [  0   0   0]\n",
      "  [255 255 255]\n",
      "  [255 255 255]\n",
      "  [255 255 255]\n",
      "  [255 255 255]\n",
      "  [255 255 255]]\n",
      "\n",
      " [[  0   0   0]\n",
      "  [  0   0   0]\n",
      "  [  0   0   0]\n",
      "  [  0   0   0]\n",
      "  [  0   0   0]\n",
      "  [255 255 255]\n",
      "  [255 255 255]\n",
      "  [255 255 255]\n",
      "  [255 255 255]\n",
      "  [255 255 255]]\n",
      "\n",
      " [[  0   0   0]\n",
      "  [  0   0   0]\n",
      "  [  0   0   0]\n",
      "  [  0   0   0]\n",
      "  [  0   0   0]\n",
      "  [255 255 255]\n",
      "  [255 255 255]\n",
      "  [255 255 255]\n",
      "  [255 255 255]\n",
      "  [255 255 255]]\n",
      "\n",
      " [[  0   0   0]\n",
      "  [  0   0   0]\n",
      "  [  0   0   0]\n",
      "  [  0   0   0]\n",
      "  [  0   0   0]\n",
      "  [255 255 255]\n",
      "  [255 255 255]\n",
      "  [255 255 255]\n",
      "  [255 255 255]\n",
      "  [255 255 255]]\n",
      "\n",
      " [[  0   0   0]\n",
      "  [  0   0   0]\n",
      "  [  0   0   0]\n",
      "  [  0   0   0]\n",
      "  [  0   0   0]\n",
      "  [255 255 255]\n",
      "  [255 255 255]\n",
      "  [255 255 255]\n",
      "  [255 255 255]\n",
      "  [255 255 255]]\n",
      "\n",
      " [[  0   0   0]\n",
      "  [  0   0   0]\n",
      "  [  0   0   0]\n",
      "  [  0   0   0]\n",
      "  [  0   0   0]\n",
      "  [255 255 255]\n",
      "  [255 255 255]\n",
      "  [255 255 255]\n",
      "  [255 255 255]\n",
      "  [255 255 255]]\n",
      "\n",
      " [[  0   0   0]\n",
      "  [  0   0   0]\n",
      "  [  0   0   0]\n",
      "  [  0   0   0]\n",
      "  [  0   0   0]\n",
      "  [255 255 255]\n",
      "  [255 255 255]\n",
      "  [255 255 255]\n",
      "  [255 255 255]\n",
      "  [255 255 255]]\n",
      "\n",
      " [[  0   0   0]\n",
      "  [  0   0   0]\n",
      "  [  0   0   0]\n",
      "  [  0   0   0]\n",
      "  [  0   0   0]\n",
      "  [255 255 255]\n",
      "  [255 255 255]\n",
      "  [255 255 255]\n",
      "  [255 255 255]\n",
      "  [255 255 255]]]\n",
      "array shape: (10, 10, 3)\n",
      "array dimension:  3\n",
      "array datatype:  int64\n",
      "array size:  300\n",
      "\n"
     ]
    }
   ],
   "source": [
    "#Q3\n",
    "\n",
    "print('a shape: ', a.shape)\n",
    "print('b shape: ', b.shape)\n",
    "\n",
    "print()\n",
    "\n",
    "a1b = np.hstack((a, b))\n",
    "array_properties(a1b)"
   ]
  },
  {
   "cell_type": "code",
   "execution_count": 120,
   "id": "16795ab4-7041-4f16-aae3-844a4707327e",
   "metadata": {},
   "outputs": [
    {
     "data": {
      "image/png": "[encoded data removed]",
      "text/plain": [
       "<Figure size 720x720 with 1 Axes>"
      ]
     },
     "metadata": {
      "needs_background": "light"
     },
     "output_type": "display_data"
    }
   ],
   "source": [
    "plt.figure(figsize =(10, 10))\n",
    "plt.imshow(a1b)\n",
    "plt.title('array a1b')\n",
    "plt.show()"
   ]
  },
  {
   "cell_type": "code",
   "execution_count": 121,
   "id": "365236c1-3c27-470b-9849-1af664c7c2a1",
   "metadata": {},
   "outputs": [
    {
     "name": "stdout",
     "output_type": "stream",
     "text": [
      "array: \n",
      "  [[[153  39  38]\n",
      "  [ 46 191 142]\n",
      "  [124  17  80]\n",
      "  ...\n",
      "  [133  19 253]\n",
      "  [171 114 253]\n",
      "  [ 80 114 197]]\n",
      "\n",
      " [[ 49 199 242]\n",
      "  [240 108  40]\n",
      "  [192  46 112]\n",
      "  ...\n",
      "  [252 215 218]\n",
      "  [204 173 209]\n",
      "  [181 138  86]]\n",
      "\n",
      " [[ 68  94  51]\n",
      "  [124  72 109]\n",
      "  [104  61 114]\n",
      "  ...\n",
      "  [103  25  16]\n",
      "  [ 82  89 112]\n",
      "  [254 187 193]]\n",
      "\n",
      " ...\n",
      "\n",
      " [[168  30 110]\n",
      "  [  8 157  28]\n",
      "  [180  42  68]\n",
      "  ...\n",
      "  [ 86  54 199]\n",
      "  [214 227 108]\n",
      "  [ 80 162  84]]\n",
      "\n",
      " [[175 139 102]\n",
      "  [166 238 191]\n",
      "  [168  18  29]\n",
      "  ...\n",
      "  [ 70 218 138]\n",
      "  [ 78 229 120]\n",
      "  [122 219 106]]\n",
      "\n",
      " [[132 177 155]\n",
      "  [  5  65 212]\n",
      "  [142 108  49]\n",
      "  ...\n",
      "  [113 229 225]\n",
      "  [ 28 122 115]\n",
      "  [177 247 219]]]\n",
      "array shape: (50, 50, 3)\n",
      "array dimension:  3\n",
      "array datatype:  uint8\n",
      "array size:  7500\n",
      "\n"
     ]
    }
   ],
   "source": [
    "#Q3\n",
    "\n",
    "import numpy as np\n",
    "\n",
    "np.random.seed(11)\n",
    "\n",
    "c = np.random.randint(0, 256, 7500, dtype = 'uint8').reshape(50, 50, 3)\n",
    "\n",
    "array_properties(c)"
   ]
  },
  {
   "cell_type": "code",
   "execution_count": 122,
   "id": "f3a6c656-f78e-4ddf-9602-6aaf919a898f",
   "metadata": {},
   "outputs": [
    {
     "data": {
      "image/png": "[encoded data removed]",
      "text/plain": [
       "<Figure size 720x720 with 1 Axes>"
      ]
     },
     "metadata": {
      "needs_background": "light"
     },
     "output_type": "display_data"
    }
   ],
   "source": [
    "plt.figure(figsize =(10, 10))\n",
    "plt.imshow(c)\n",
    "plt.title('array c')\n",
    "plt.show()"
   ]
  },
  {
   "cell_type": "code",
   "execution_count": 123,
   "id": "da5d6018-e293-489e-b4a0-7941a761d32f",
   "metadata": {},
   "outputs": [
    {
     "name": "stdout",
     "output_type": "stream",
     "text": [
      "array: \n",
      "  [[[255   0   0]\n",
      "  [255   0   0]\n",
      "  [255   0   0]\n",
      "  [255   0   0]\n",
      "  [255   0   0]\n",
      "  [255   0   0]\n",
      "  [255   0   0]\n",
      "  [255   0   0]\n",
      "  [255   0   0]\n",
      "  [255   0   0]\n",
      "  [255   0   0]\n",
      "  [255   0   0]\n",
      "  [255   0   0]\n",
      "  [255   0   0]\n",
      "  [255   0   0]\n",
      "  [255   0   0]\n",
      "  [255   0   0]\n",
      "  [255   0   0]\n",
      "  [255   0   0]\n",
      "  [255   0   0]\n",
      "  [255   0   0]\n",
      "  [255   0   0]\n",
      "  [255   0   0]\n",
      "  [255   0   0]\n",
      "  [255   0   0]\n",
      "  [255   0   0]\n",
      "  [255   0   0]\n",
      "  [255   0   0]\n",
      "  [255   0   0]\n",
      "  [255   0   0]\n",
      "  [255   0   0]\n",
      "  [255   0   0]\n",
      "  [255   0   0]\n",
      "  [255   0   0]\n",
      "  [255   0   0]\n",
      "  [255   0   0]\n",
      "  [255   0   0]\n",
      "  [255   0   0]\n",
      "  [255   0   0]\n",
      "  [255   0   0]\n",
      "  [255   0   0]\n",
      "  [255   0   0]\n",
      "  [255   0   0]\n",
      "  [255   0   0]\n",
      "  [255   0   0]\n",
      "  [255   0   0]\n",
      "  [255   0   0]\n",
      "  [255   0   0]\n",
      "  [255   0   0]\n",
      "  [255   0   0]]]\n",
      "array shape: (1, 50, 3)\n",
      "array dimension:  3\n",
      "array datatype:  uint8\n",
      "array size:  150\n",
      "\n"
     ]
    }
   ],
   "source": [
    "#Q4 \n",
    "\n",
    "c[0::-1, 0::] = [255, 0, 0]\n",
    "array_properties(c[0::-1, 0::])"
   ]
  },
  {
   "cell_type": "code",
   "execution_count": 124,
   "id": "47ca1f0d-896f-4992-95cd-43fdcd9148cb",
   "metadata": {},
   "outputs": [
    {
     "data": {
      "image/png": "[encoded data removed]",
      "text/plain": [
       "<Figure size 3600x720 with 1 Axes>"
      ]
     },
     "metadata": {
      "needs_background": "light"
     },
     "output_type": "display_data"
    }
   ],
   "source": [
    "plt.figure(figsize =(50, 10))\n",
    "plt.imshow(c[0:1,0:])\n",
    "plt.title('array c top red')\n",
    "plt.show()"
   ]
  },
  {
   "cell_type": "code",
   "execution_count": 127,
   "id": "808bebce-d484-4d5a-a7c4-03449c289c33",
   "metadata": {},
   "outputs": [
    {
     "name": "stdout",
     "output_type": "stream",
     "text": [
      "array: \n",
      "  [[[  0 255   0]\n",
      "  [  0 255   0]\n",
      "  [  0 255   0]\n",
      "  [  0 255   0]\n",
      "  [  0 255   0]\n",
      "  [  0 255   0]\n",
      "  [  0 255   0]\n",
      "  [  0 255   0]\n",
      "  [  0 255   0]\n",
      "  [  0 255   0]\n",
      "  [  0 255   0]\n",
      "  [  0 255   0]\n",
      "  [  0 255   0]\n",
      "  [  0 255   0]\n",
      "  [  0 255   0]\n",
      "  [  0 255   0]\n",
      "  [  0 255   0]\n",
      "  [  0 255   0]\n",
      "  [  0 255   0]\n",
      "  [  0 255   0]\n",
      "  [  0 255   0]\n",
      "  [  0 255   0]\n",
      "  [  0 255   0]\n",
      "  [  0 255   0]\n",
      "  [  0 255   0]\n",
      "  [  0 255   0]\n",
      "  [  0 255   0]\n",
      "  [  0 255   0]\n",
      "  [  0 255   0]\n",
      "  [  0 255   0]\n",
      "  [  0 255   0]\n",
      "  [  0 255   0]\n",
      "  [  0 255   0]\n",
      "  [  0 255   0]\n",
      "  [  0 255   0]\n",
      "  [  0 255   0]\n",
      "  [  0 255   0]\n",
      "  [  0 255   0]\n",
      "  [  0 255   0]\n",
      "  [  0 255   0]\n",
      "  [  0 255   0]\n",
      "  [  0 255   0]\n",
      "  [  0 255   0]\n",
      "  [  0 255   0]\n",
      "  [  0 255   0]\n",
      "  [  0 255   0]\n",
      "  [  0 255   0]\n",
      "  [  0 255   0]\n",
      "  [  0 255   0]\n",
      "  [  0 255   0]]]\n",
      "array shape: (1, 50, 3)\n",
      "array dimension:  3\n",
      "array datatype:  uint8\n",
      "array size:  150\n",
      "\n"
     ]
    }
   ],
   "source": [
    "c[-1::,::-1] = [0, 255, 0]\n",
    "array_properties(c[-1::, ::-1])   #choose all column in reverse"
   ]
  },
  {
   "cell_type": "code",
   "execution_count": 128,
   "id": "6fcb8a3d-5b81-45f4-8d30-55b8e05a00ac",
   "metadata": {},
   "outputs": [
    {
     "data": {
      "image/png": "[encoded data removed]",
      "text/plain": [
       "<Figure size 3600x720 with 1 Axes>"
      ]
     },
     "metadata": {
      "needs_background": "light"
     },
     "output_type": "display_data"
    }
   ],
   "source": [
    "plt.figure(figsize =(50, 10))\n",
    "plt.imshow(c[-1::, ::-1])\n",
    "plt.title('array c bottom green')\n",
    "plt.show()"
   ]
  },
  {
   "cell_type": "code",
   "execution_count": 129,
   "id": "91d4fac8-c55d-490c-84cf-0d407225efc6",
   "metadata": {},
   "outputs": [
    {
     "data": {
      "image/png": "[encoded data removed]",
      "text/plain": [
       "<Figure size 720x720 with 1 Axes>"
      ]
     },
     "metadata": {
      "needs_background": "light"
     },
     "output_type": "display_data"
    },
    {
     "data": {
      "image/png": "[encoded data removed]",
      "text/plain": [
       "<Figure size 720x720 with 1 Axes>"
      ]
     },
     "metadata": {
      "needs_background": "light"
     },
     "output_type": "display_data"
    },
    {
     "data": {
      "image/png": "[encoded data removed]",
      "text/plain": [
       "<Figure size 720x720 with 1 Axes>"
      ]
     },
     "metadata": {
      "needs_background": "light"
     },
     "output_type": "display_data"
    },
    {
     "data": {
      "image/png": "[encoded data removed]",
      "text/plain": [
       "<Figure size 720x720 with 1 Axes>"
      ]
     },
     "metadata": {
      "needs_background": "light"
     },
     "output_type": "display_data"
    },
    {
     "data": {
      "image/png": "[encoded data removed]",
      "text/plain": [
       "<Figure size 720x720 with 1 Axes>"
      ]
     },
     "metadata": {
      "needs_background": "light"
     },
     "output_type": "display_data"
    },
    {
     "data": {
      "image/png": "[encoded data removed]",
      "text/plain": [
       "<Figure size 720x720 with 1 Axes>"
      ]
     },
     "metadata": {
      "needs_background": "light"
     },
     "output_type": "display_data"
    }
   ],
   "source": [
    "#Q7 \n",
    "\n",
    "import matplotlib.pyplot as plt \n",
    "\n",
    "#plot array a in question 1 \n",
    "\n",
    "plt.figure(figsize = (10, 10))\n",
    "plt.subplot(3, 2, 1)\n",
    "plt.imshow(a)\n",
    "plt.title('array a')\n",
    "#plt.show()\n",
    "\n",
    "#plot array b in question 2 \n",
    "\n",
    "plt.figure(figsize = (10, 10))\n",
    "plt.subplot(3, 2, 2)\n",
    "plt.imshow(b)\n",
    "plt.title('array b')\n",
    "#plt.show()\n",
    "\n",
    "#plot array a1b in question 3 \n",
    "\n",
    "plt.figure(figsize = (10, 10))\n",
    "plt.subplot(3, 2, 3)\n",
    "plt.imshow(a1b)\n",
    "plt.title('array a1b')\n",
    "#plt.show()\n",
    "\n",
    "#plot array c in question 4 \n",
    "\n",
    "plt.figure(figsize = (10, 10))\n",
    "plt.subplot(3, 2, 4)\n",
    "plt.imshow(c)\n",
    "plt.title('array c')\n",
    "#plt.show()\n",
    "\n",
    "#plot array c in question 5 part 1 \n",
    "\n",
    "plt.figure(figsize = (10, 10))\n",
    "plt.subplot(3, 2, 5)\n",
    "plt.imshow(c[0:1, 0:])\n",
    "plt.title('array c top red')\n",
    "#plt.show()\n",
    "\n",
    "#plot array c in question 5 part 2 \n",
    "\n",
    "plt.figure(figsize = (10, 10))\n",
    "plt.subplot(3, 2, 6)\n",
    "plt.imshow(c[-1:, ::-1])\n",
    "plt.title('array c bottom green')\n",
    "plt.show()"
   ]
  },
  {
   "cell_type": "code",
   "execution_count": null,
   "id": "654d552c-790d-4718-b9a0-c55bbe677c8b",
   "metadata": {},
   "outputs": [],
   "source": []
  }
 ],
 "metadata": {
  "kernelspec": {
   "display_name": "Python 3",
   "language": "python",
   "name": "python3"
  },
  "language_info": {
   "codemirror_mode": {
    "name": "ipython",
    "version": 3
   },
   "file_extension": ".py",
   "mimetype": "text/x-python",
   "name": "python",
   "nbconvert_exporter": "python",
   "pygments_lexer": "ipython3",
   "version": "3.8.8"
  }
 },
 "nbformat": 4,
 "nbformat_minor": 5
}

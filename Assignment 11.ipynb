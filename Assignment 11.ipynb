{
 "cells": [
  {
   "cell_type": "code",
   "execution_count": 1,
   "id": "838c8f94-244e-4561-8396-273ca160adf3",
   "metadata": {},
   "outputs": [
    {
     "data": {
      "text/plain": [
       "-1"
      ]
     },
     "execution_count": 1,
     "metadata": {},
     "output_type": "execute_result"
    }
   ],
   "source": [
    "#Question 1 \n",
    "\n",
    "import cv2 as cv\n",
    "\n",
    "\n",
    "import cv2 as cv\n",
    "\n",
    "\n",
    "#get the default \n",
    "capture = cv.VideoCapture(0)\n",
    "# check if connected\n",
    "if capture.isOpened() is False:\n",
    "    print(\"Error opening camera 0\")\n",
    "    exit()\n",
    "\n",
    "videoWidth = int(capture.get(cv.CAP_PROP_FRAME_WIDTH))\n",
    "videoHeight = int(capture.get(cv.CAP_PROP_FRAME_HEIGHT))\n",
    "\n",
    "# Define the codec and create VideoWriter object\n",
    "fourcc = cv.VideoWriter_fourcc(*'XVID')\n",
    "video_out = cv.VideoWriter('day.mp4', fourcc, 20.0, (videoWidth,  videoHeight))\n",
    "    \n",
    "while capture.isOpened():\n",
    "    # capture frames, if read correctly ret is True\n",
    "    ret, frame = capture.read()\n",
    "\n",
    "    if not ret:\n",
    "        print(\"Didn't receive frame. Stop \")\n",
    "        break  \n",
    "    \n",
    "    # top border\n",
    "    frame[:15, :] = [10,10,100]\n",
    "\n",
    "    # bottom border \n",
    "    frame[-15:, :] = [80,200,80]\n",
    "    \n",
    "    # left border \n",
    "    frame[:, :20] = [5,100,200]\n",
    "    \n",
    "    # right border \n",
    "    frame[:, -20:] = [200,10,60]\n",
    "    \n",
    "    #write the flipped frame\n",
    "    video_out.write(frame)\n",
    "    \n",
    "    cv.imshow(\"Camera frame\", frame)\n",
    "    \n",
    "    k = cv.waitKey(10) \n",
    "    \n",
    "    # check if key is q then exit\n",
    "    if k == ord(\"q\"):\n",
    "\n",
    "        break\n",
    "    \n",
    "\n",
    "capture.release()\n",
    "video_out.release()\n",
    "cv.destroyAllWindows()\n",
    "cv.waitKey(1)\n",
    "\n"
   ]
  },
  {
   "cell_type": "code",
   "execution_count": null,
   "id": "87d9b155-1ddc-41dc-9a2e-39bc51225cc4",
   "metadata": {},
   "outputs": [],
   "source": []
  }
 ],
 "metadata": {
  "kernelspec": {
   "display_name": "Python 3",
   "language": "python",
   "name": "python3"
  },
  "language_info": {
   "codemirror_mode": {
    "name": "ipython",
    "version": 3
   },
   "file_extension": ".py",
   "mimetype": "text/x-python",
   "name": "python",
   "nbconvert_exporter": "python",
   "pygments_lexer": "ipython3",
   "version": "3.8.8"
  }
 },
 "nbformat": 4,
 "nbformat_minor": 5
}

{
 "cells": [
  {
   "cell_type": "code",
   "execution_count": 1,
   "id": "66f17113-bb2d-4982-9b6d-afb4636c66ae",
   "metadata": {},
   "outputs": [
    {
     "name": "stdout",
     "output_type": "stream",
     "text": [
      "[[ 77 217 181 254  63 253 247 225 232  65]\n",
      " [ 40  15  75 104 183 246  76 212 152 196]\n",
      " [ 51 198 135  13 230 221  55  36 240  65]\n",
      " [239 119 233 125 237 231  17 121 152 122]\n",
      " [202   4 162  20 219 168 164   1 186 145]\n",
      " [ 19 163  71  33 211 223 250 191 164  23]\n",
      " [131 117 216 148 112 104 224  31  39  72]\n",
      " [146  33 230  59 129 197  65  71 142  93]\n",
      " [250 135 110 208  94  62 190  35 151  77]\n",
      " [169 247 171 220 213  74  71  96   9 237]]\n"
     ]
    }
   ],
   "source": [
    "import numpy as np \n",
    "\n",
    "array_1 = np.random.randint(0, 256, (10, 10), dtype = np.uint8) \n",
    "\n",
    "print(array_1)"
   ]
  },
  {
   "cell_type": "code",
   "execution_count": 2,
   "id": "299c85a5-6c4e-4815-ab62-8caeb5e3b20d",
   "metadata": {},
   "outputs": [
    {
     "name": "stdout",
     "output_type": "stream",
     "text": [
      "array_1 shape:  (10, 10)\n",
      "\n",
      "array_1_size:  100\n",
      "\n",
      "array_1_dimension:  2\n"
     ]
    }
   ],
   "source": [
    "print(\"array_1 shape: \", array_1.shape)\n",
    "print()\n",
    "print(\"array_1_size: \", array_1.size)\n",
    "print()\n",
    "print(\"array_1_dimension: \", array_1.ndim)"
   ]
  },
  {
   "cell_type": "code",
   "execution_count": 3,
   "id": "9f707e16-245a-4afe-a295-671bf47b12c8",
   "metadata": {},
   "outputs": [
    {
     "name": "stdout",
     "output_type": "stream",
     "text": [
      "[146  33 230  59 129 197  65  71 142  93]\n",
      "\n",
      "Total elements from the third last row:  1165\n"
     ]
    }
   ],
   "source": [
    "print(array_1[-3])\n",
    "print()\n",
    "total = np.sum(array_1[-3])\n",
    "print(\"Total elements from the third last row: \", total)"
   ]
  },
  {
   "cell_type": "code",
   "execution_count": 6,
   "id": "1d28e481-3ff8-45a7-8f1d-ede509b05cc3",
   "metadata": {},
   "outputs": [
    {
     "name": "stdout",
     "output_type": "stream",
     "text": [
      "[132.4 124.8 158.4 118.4 169.1 177.9 135.9 101.9 146.7 109.5]\n"
     ]
    }
   ],
   "source": [
    "ar_avg = np.mean(array_1, axis=0)\n",
    "print(ar_avg)"
   ]
  },
  {
   "cell_type": "code",
   "execution_count": null,
   "id": "3ba57afa-3241-4e1c-b256-9410498a8b12",
   "metadata": {},
   "outputs": [],
   "source": []
  }
 ],
 "metadata": {
  "kernelspec": {
   "display_name": "Python 3",
   "language": "python",
   "name": "python3"
  },
  "language_info": {
   "codemirror_mode": {
    "name": "ipython",
    "version": 3
   },
   "file_extension": ".py",
   "mimetype": "text/x-python",
   "name": "python",
   "nbconvert_exporter": "python",
   "pygments_lexer": "ipython3",
   "version": "3.8.8"
  }
 },
 "nbformat": 4,
 "nbformat_minor": 5
}

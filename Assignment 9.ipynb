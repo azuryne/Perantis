{
 "cells": [
  {
   "cell_type": "code",
   "execution_count": 1,
   "id": "91bd0b61-fff3-4701-a4fa-5f740665202d",
   "metadata": {},
   "outputs": [
    {
     "name": "stdout",
     "output_type": "stream",
     "text": [
      "[[15  8 22 18 11  7]\n",
      " [34 31 11 21 31 26]\n",
      " [20  3  4 33  3  5]\n",
      " [24  4  6 31 19 31]\n",
      " [ 2 16 12  4 26 15]\n",
      " [ 8 15  8 17 22  9]]\n",
      "array shape: (6, 6)\n",
      "array dimension:  2\n",
      "array datatype:  int64\n",
      "array size:  36\n",
      "\n"
     ]
    }
   ],
   "source": [
    "# create an array a, of shape (6X6) using randint and seed 2 \n",
    "\n",
    "import numpy as np \n",
    "\n",
    "def array_properties(a):\n",
    "    print(\"array shape:\", a.shape)\n",
    "    print(\"array dimension: \", a.ndim)\n",
    "    print(\"array datatype: \", a.dtype)\n",
    "    print(\"array size: \", a.size)\n",
    "    print()\n",
    "\n",
    "np.random.seed(2)\n",
    "\n",
    "a = np.random.randint(0, 36,(6,6))\n",
    "\n",
    "print(a)\n",
    "array_properties(a)"
   ]
  },
  {
   "cell_type": "code",
   "execution_count": 2,
   "id": "4f56cfde-6ed3-4e2f-83b7-0cb78202395e",
   "metadata": {},
   "outputs": [
    {
     "name": "stdout",
     "output_type": "stream",
     "text": [
      "[[1 0 0 0 0 0]\n",
      " [0 1 0 0 0 0]\n",
      " [0 0 1 0 0 0]\n",
      " [0 0 0 1 0 0]\n",
      " [0 0 0 0 1 0]\n",
      " [0 0 0 0 0 1]]\n",
      "array shape: (6, 6)\n",
      "array dimension:  2\n",
      "array datatype:  int64\n",
      "array size:  36\n",
      "\n"
     ]
    }
   ],
   "source": [
    "# convert the array a, to an identity matrix I \n",
    "\n",
    "row = a.shape[0]\n",
    "col = a.shape[1]\n",
    "I = a\n",
    "\n",
    "for i in range (row):\n",
    "    for j in range (col):\n",
    "        if i == j: \n",
    "            I[i,j] = 1\n",
    "        else:\n",
    "            I[i,j] = 0\n",
    "\n",
    "print(I)\n",
    "array_properties(I)"
   ]
  },
  {
   "cell_type": "code",
   "execution_count": 4,
   "id": "6a2ec92c-aaf5-4104-8b61-3fb4214aa9e1",
   "metadata": {},
   "outputs": [
    {
     "name": "stdout",
     "output_type": "stream",
     "text": [
      "[[1 0 0 0 0 0]\n",
      " [0 1 0 0 0 0]\n",
      " [0 0 1 0 0 0]\n",
      " [0 0 0 1 0 0]\n",
      " [0 0 0 0 1 0]\n",
      " [0 0 0 0 0 1]]\n",
      "array shape: (6, 6)\n",
      "array dimension:  2\n",
      "array datatype:  int64\n",
      "array size:  36\n",
      "\n"
     ]
    }
   ],
   "source": [
    "row,col = a.shape\n",
    "\n",
    "I_ = np.copy(a)\n",
    "\n",
    "for i in range (row):\n",
    "    for j in range (col):\n",
    "        if i == j: \n",
    "            I[i,j] = 1\n",
    "        else:\n",
    "            I[i,j] = 0\n",
    "\n",
    "print(I_)\n",
    "array_properties(I_)"
   ]
  },
  {
   "cell_type": "code",
   "execution_count": 5,
   "id": "c2b4a947-3eac-489c-88f9-cf0b71304eec",
   "metadata": {},
   "outputs": [
    {
     "name": "stdout",
     "output_type": "stream",
     "text": [
      "[[1. 0. 0. 0. 0. 0.]\n",
      " [0. 1. 0. 0. 0. 0.]\n",
      " [0. 0. 1. 0. 0. 0.]\n",
      " [0. 0. 0. 1. 0. 0.]\n",
      " [0. 0. 0. 0. 1. 0.]\n",
      " [0. 0. 0. 0. 0. 1.]]\n",
      "array shape: (6, 6)\n",
      "array dimension:  2\n",
      "array datatype:  float64\n",
      "array size:  36\n",
      "\n"
     ]
    }
   ],
   "source": [
    "# alternative using inverse dot product \n",
    "\n",
    "a_1 = np.linalg.inv(a)\n",
    "I_1 = a_1 @ a\n",
    "\n",
    "print(I_1)\n",
    "array_properties(I_1)"
   ]
  },
  {
   "cell_type": "code",
   "execution_count": null,
   "id": "7f839055-ee02-40b8-b06b-7bc3a420f2b9",
   "metadata": {},
   "outputs": [],
   "source": []
  }
 ],
 "metadata": {
  "kernelspec": {
   "display_name": "Python 3",
   "language": "python",
   "name": "python3"
  },
  "language_info": {
   "codemirror_mode": {
    "name": "ipython",
    "version": 3
   },
   "file_extension": ".py",
   "mimetype": "text/x-python",
   "name": "python",
   "nbconvert_exporter": "python",
   "pygments_lexer": "ipython3",
   "version": "3.8.8"
  }
 },
 "nbformat": 4,
 "nbformat_minor": 5
}

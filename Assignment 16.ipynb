{
 "cells": [
  {
   "cell_type": "code",
   "execution_count": 2,
   "id": "3185d277-cfca-4d4f-939c-b4ebe86689ca",
   "metadata": {},
   "outputs": [
    {
     "data": {
      "text/plain": [
       "True"
      ]
     },
     "execution_count": 2,
     "metadata": {},
     "output_type": "execute_result"
    }
   ],
   "source": [
    "import cv2 as cv\n",
    "\n",
    "img0 = cv.imread('assets/0.jpg')\n",
    "img1 = cv.imread('assets/1.jpg')\n",
    "img2 = cv.imread('assets/2.jpg')\n",
    "img3 = cv.imread('assets/3.jpg')\n",
    "img4 = cv.imread('assets/4.jpg')\n",
    "\n",
    "v_img = cv.hconcat([img0,img1,img2,img3,img4])\n",
    "cv.imwrite('out11.png', v_img)"
   ]
  },
  {
   "cell_type": "code",
   "execution_count": 3,
   "id": "9da9686c-00ce-4b5f-ac91-63a67a88310b",
   "metadata": {},
   "outputs": [
    {
     "data": {
      "text/plain": [
       "True"
      ]
     },
     "execution_count": 3,
     "metadata": {},
     "output_type": "execute_result"
    }
   ],
   "source": [
    "img5 = cv.imread('assets/5.jpg')\n",
    "img6 = cv.imread('assets/6.jpg')\n",
    "img7 = cv.imread('assets/7.jpg')\n",
    "img8 = cv.imread('assets/8.jpg')\n",
    "img9 = cv.imread('assets/9.jpg')\n",
    "\n",
    "v_img1 = cv.hconcat([img5,img6,img7,img8,img9])\n",
    "cv.imwrite('out12.png', v_img1)"
   ]
  },
  {
   "cell_type": "code",
   "execution_count": 5,
   "id": "ca5df918-6920-44fc-a5b0-63abe7b6f40b",
   "metadata": {},
   "outputs": [
    {
     "data": {
      "text/plain": [
       "True"
      ]
     },
     "execution_count": 5,
     "metadata": {},
     "output_type": "execute_result"
    }
   ],
   "source": [
    "img_r1 = cv.imread('out11.png')\n",
    "img_r2 = cv.imread('out12.png')\n",
    "h_img = cv.vconcat([img_r1, img_r2])\n",
    "cv.imwrite('final.png', h_img)"
   ]
  },
  {
   "cell_type": "code",
   "execution_count": 121,
   "id": "3806744f-0f79-4546-9289-44fe1ad225fb",
   "metadata": {},
   "outputs": [
    {
     "data": {
      "image/png": "[encoded data removed]",
      "text/plain": [
       "<Figure size 1440x1440 with 2 Axes>"
      ]
     },
     "metadata": {
      "needs_background": "light"
     },
     "output_type": "display_data"
    },
    {
     "data": {
      "text/plain": [
       "True"
      ]
     },
     "execution_count": 121,
     "metadata": {},
     "output_type": "execute_result"
    }
   ],
   "source": [
    "import cv2 as cv \n",
    "import matplotlib.pyplot as plt \n",
    "\n",
    "# file path\n",
    "imgPath = 'final.png'\n",
    "img = cv.imread(imgPath)\n",
    "\n",
    "# Convert to grayscale \n",
    "imgGray = cv.cvtColor(img, cv.COLOR_BGR2GRAY)\n",
    "\n",
    "imgGrayF = cv.bilateralFilter(imgGray,  5, 25, 25)\n",
    "\n",
    "maxval = 255\n",
    "blockSize = 5\n",
    "C = 7\n",
    "thresh_img = cv.adaptiveThreshold(imgGrayF, maxval, cv.ADAPTIVE_THRESH_GAUSSIAN_C, cv.THRESH_BINARY_INV, blockSize=blockSize, C=C)\n",
    "\n",
    "# gray to RGB\n",
    "thresh_img = cv.cvtColor(thresh_img, cv.COLOR_GRAY2RGB)\n",
    "\n",
    "\n",
    "plt.figure(figsize=(20,20))\n",
    "imgRGB = img[:,:,::-1]\n",
    "plt.subplot(221)\n",
    "plt.title(\"Original\")\n",
    "plt.imshow(imgRGB)\n",
    "\n",
    "\n",
    "plt.subplot(222)\n",
    "plt.imshow(thresh_img)\n",
    "plt.title(f'ADAPTIVE_THRESH_MEAN_C, blockSize={blockSize}, C={C}')\n",
    "plt.axis('off')\n",
    "\n",
    "plt.show()\n",
    "\n",
    "cv.imwrite('final_1.png', thresh_img)\n"
   ]
  },
  {
   "cell_type": "code",
   "execution_count": 115,
   "id": "8e413fa5-5bf0-4425-968f-5381ae85a64d",
   "metadata": {},
   "outputs": [
    {
     "data": {
      "text/plain": [
       "True"
      ]
     },
     "execution_count": 115,
     "metadata": {},
     "output_type": "execute_result"
    }
   ],
   "source": [
    "import cv2 as cv\n",
    "\n",
    "img0 = cv.imread('assets/00.png')\n",
    "img1 = cv.imread('assets/11.png')\n",
    "img2 = cv.imread('assets/22.png')\n",
    "img3 = cv.imread('assets/33.png')\n",
    "img4 = cv.imread('assets/44.png')\n",
    "\n",
    "v_img = cv.hconcat([img0,img1,img2,img3,img4])\n",
    "cv.imwrite('outp1l.png', v_img)"
   ]
  },
  {
   "cell_type": "code",
   "execution_count": 116,
   "id": "ead04458-41d6-40f6-8d39-5703b340ce82",
   "metadata": {},
   "outputs": [
    {
     "data": {
      "text/plain": [
       "True"
      ]
     },
     "execution_count": 116,
     "metadata": {},
     "output_type": "execute_result"
    }
   ],
   "source": [
    "import cv2 as cv\n",
    "\n",
    "img5 = cv.imread('assets/55.png')\n",
    "img6 = cv.imread('assets/66.png')\n",
    "img7 = cv.imread('assets/77.png')\n",
    "img8 = cv.imread('assets/88.png')\n",
    "img9 = cv.imread('assets/99.png')\n",
    "\n",
    "v_img = cv.hconcat([img5,img6,img7,img8,img9])\n",
    "cv.imwrite('outp2l.png', v_img)"
   ]
  },
  {
   "cell_type": "code",
   "execution_count": 122,
   "id": "d4ca2ebe-5c66-4b02-982b-6c467e0f895a",
   "metadata": {},
   "outputs": [
    {
     "data": {
      "text/plain": [
       "True"
      ]
     },
     "execution_count": 122,
     "metadata": {},
     "output_type": "execute_result"
    }
   ],
   "source": [
    "img_r1 = cv.imread('/Users/azureennaja/Desktop/Perantis/cv-master/essential/outp1l.png')\n",
    "img_r2 = cv.imread('/Users/azureennaja/Desktop/Perantis/cv-master/essential/outp2l.png')\n",
    "h_img = cv.vconcat([img_r1, img_r2])\n",
    "cv.imwrite('final2.png', h_img)"
   ]
  },
  {
   "cell_type": "code",
   "execution_count": 151,
   "id": "79c0a33d-74a4-4e55-a6d1-d6ecc4d176c9",
   "metadata": {},
   "outputs": [
    {
     "data": {
      "image/png": "[encoded data removed]",
      "text/plain": [
       "<Figure size 1440x1440 with 2 Axes>"
      ]
     },
     "metadata": {
      "needs_background": "light"
     },
     "output_type": "display_data"
    },
    {
     "data": {
      "text/plain": [
       "True"
      ]
     },
     "execution_count": 151,
     "metadata": {},
     "output_type": "execute_result"
    }
   ],
   "source": [
    "import cv2 as cv \n",
    "import matplotlib.pyplot as plt \n",
    "\n",
    "# file path\n",
    "imgPath = 'final2.png'\n",
    "img = cv.imread(imgPath)\n",
    "\n",
    "# Convert to grayscale \n",
    "imgGray = cv.cvtColor(img, cv.COLOR_BGR2GRAY)\n",
    "\n",
    "imgGrayF = cv.bilateralFilter(imgGray,  5, 25, 25)\n",
    "\n",
    "maxval = 255\n",
    "blockSize = 5\n",
    "C = 2\n",
    "thresh_img = cv.adaptiveThreshold(imgGrayF, maxval, cv.ADAPTIVE_THRESH_GAUSSIAN_C, cv.THRESH_BINARY_INV, blockSize=blockSize, C=C)\n",
    "\n",
    "# gray to RGB\n",
    "thresh_img = cv.cvtColor(thresh_img, cv.COLOR_GRAY2RGB)\n",
    "\n",
    "\n",
    "plt.figure(figsize=(20,20))\n",
    "imgRGB = img[:,:,::-1]\n",
    "plt.subplot(221)\n",
    "plt.title(\"Original\")\n",
    "plt.imshow(imgRGB)\n",
    "\n",
    "\n",
    "plt.subplot(222)\n",
    "plt.imshow(thresh_img)\n",
    "plt.title(f'ADAPTIVE_THRESH_MEAN_C, blockSize={blockSize}, C={C}')\n",
    "plt.axis('off')\n",
    "\n",
    "plt.show()\n",
    "\n",
    "cv.imwrite('final_2.png', thresh_img)\n"
   ]
  },
  {
   "cell_type": "code",
   "execution_count": 160,
   "id": "df893abf-55b9-4452-b432-e8320944156c",
   "metadata": {},
   "outputs": [
    {
     "name": "stdout",
     "output_type": "stream",
     "text": [
      "(1000, 2000)\n",
      "digits (5000, 20, 20)\n",
      "labels (5000,)\n",
      "features (5000, 400)\n",
      "featureTrain (3333, 400)\n",
      "featureTest (1667, 400)\n",
      "labelTrain (3333,)\n",
      "labelTest (1667,)\n",
      "Training KNN model\n",
      "Accuracy when k=4: 93.94121175764847\n",
      "\n",
      "Image shape: (40, 100)\n",
      "digits (10, 20, 20)\n",
      "labels (10,)\n",
      "features (10, 400)\n",
      "Accuracy own handwriting: 10.0\n",
      "\n",
      "Image shape: (40, 100)\n",
      "digits (10, 20, 20)\n",
      "labels (10,)\n",
      "features (10, 400)\n",
      "Accuracy own handwriting 2: 30.0\n",
      "\n"
     ]
    }
   ],
   "source": [
    "import cv2 as cv\n",
    "import numpy as np\n",
    "import matplotlib.pyplot as plt\n",
    "\n",
    "filename = '../samples/data/digits.png'\n",
    "imgGray = cv.imread(filename, cv.IMREAD_GRAYSCALE)\n",
    "\n",
    "print(imgGray.shape)\n",
    "\n",
    "#### get all the digits\n",
    "IMG_SIZE = 20\n",
    "\n",
    "# Resize\n",
    "rowNum = imgGray.shape[0] / IMG_SIZE\n",
    "colNum = imgGray.shape[1] / IMG_SIZE\n",
    "\n",
    "rows = np.vsplit(imgGray, rowNum)  #split each row first\n",
    "\n",
    "digits = []\n",
    "for row in rows:\n",
    "    rowCells = np.hsplit(row, colNum)  #after splitting row, split each col \n",
    "    for digit in rowCells:\n",
    "        digits.append(digit)   #each cell rep a particular digit\n",
    "\n",
    "# convert list to np.array\n",
    "digits = np.array(digits)\n",
    "print('digits', digits.shape)\n",
    "\n",
    "# labels\n",
    "DIGITS_CLASS = 10\n",
    "repeatNum = len(digits) / DIGITS_CLASS\n",
    "labels = np.repeat(np.arange(DIGITS_CLASS), repeatNum)\n",
    "print('labels', labels.shape)\n",
    "\n",
    "#### get features\n",
    "features = []\n",
    "for digit in digits:\n",
    "    img_pixel = np.float32(digit.flatten())  #flatten 20 by 20 pixel to 1D array of 400 pixel\n",
    "    features.append(img_pixel)\n",
    "\n",
    "features = np.squeeze(features)\n",
    "print('features', features.shape)\n",
    "\n",
    "# shuffle features and labels\n",
    "# seed random for constant random value\n",
    "rand = np.random.RandomState(321)\n",
    "shuffle = rand.permutation(features.shape[0])\n",
    "features, labels = features[shuffle], labels[shuffle]\n",
    "\n",
    "# split into training and testing \n",
    "splitRatio = [2, 1]\n",
    "sumRatio = sum(splitRatio)\n",
    "partition = np.array(splitRatio) * len(features) // sumRatio\n",
    "partition = np.cumsum(partition)\n",
    "\n",
    "featureTrain, featureTest = np.array_split(features, partition[:-1])\n",
    "labelTrain, labelTest = np.array_split(labels, partition[:-1])\n",
    "\n",
    "print('featureTrain', featureTrain.shape)\n",
    "print('featureTest', featureTest.shape)\n",
    "print('labelTrain', labelTrain.shape)\n",
    "print('labelTest', labelTest.shape)\n",
    "\n",
    "# Train the KNN model:\n",
    "print('Training KNN model')\n",
    "knn = cv.ml.KNearest_create()\n",
    "knn.train(featureTrain, cv.ml.ROW_SAMPLE, labelTrain)\n",
    "\n",
    "# Test the created model:\n",
    "k = 4\n",
    "ret, prediction, neighbours, dist = knn.findNearest(featureTest, k)\n",
    "\n",
    "# Compute the accuracy:\n",
    "accuracy = (np.squeeze(prediction) == labelTest).mean() * 100\n",
    "print(\"Accuracy when k=4: {}\".format(accuracy))\n",
    "print()\n",
    "\n",
    "#### Test own handwriting:\n",
    "\n",
    "filename1 = 'final_1.png'\n",
    "imgGray1 = cv.imread(filename1, cv.IMREAD_GRAYSCALE)\n",
    "\n",
    "print(\"Image shape:\", imgGray1.shape)\n",
    "\n",
    "#### get all the digits\n",
    "IMG_SIZE1 = 20\n",
    "\n",
    "# Resize\n",
    "rowNum1 = imgGray1.shape[0] / IMG_SIZE1\n",
    "colNum1 = imgGray1.shape[1] / IMG_SIZE1\n",
    "\n",
    "rows1 = np.vsplit(imgGray1, rowNum1)  #split each row first\n",
    "\n",
    "digits1 = []\n",
    "for row1 in rows1:\n",
    "    rowCells1 = np.hsplit(row1, colNum1)  #after splitting row, split each col \n",
    "    for digit1 in rowCells1:\n",
    "        digits1.append(digit1)   #each cell rep a particular digit\n",
    "\n",
    "# convert list to np.array\n",
    "digits1 = np.array(digits1)\n",
    "print('digits', digits1.shape)\n",
    "\n",
    "# labels\n",
    "DIGITS_CLASS1 = 10\n",
    "repeatNum1 = len(digits1) / DIGITS_CLASS1\n",
    "labelsT = np.repeat(np.arange(DIGITS_CLASS1), repeatNum1)\n",
    "print('labels', labelsT.shape)\n",
    "\n",
    "own_features = []\n",
    "for digit1 in digits1:\n",
    "    img_pixel1 = np.float32(digit1.flatten())  \n",
    "    own_features.append(img_pixel1)\n",
    "\n",
    "own_features = np.squeeze(own_features)\n",
    "print('features', own_features.shape)\n",
    "\n",
    "ret, prediction, neighbours, dist = knn.findNearest(own_features, k)\n",
    "\n",
    "# Compute the accuracy:\n",
    "accuracy = (np.squeeze(prediction) == labelsT).mean() * 100\n",
    "print(\"Accuracy own handwriting: {}\".format(accuracy))\n",
    "print()\n",
    "\n",
    "\n",
    "##### SECOND TEST\n",
    "\n",
    "filename2 = 'final_2.png'\n",
    "imgGray2 = cv.imread(filename2, cv.IMREAD_GRAYSCALE)\n",
    "\n",
    "print(\"Image shape:\", imgGray2.shape)\n",
    "\n",
    "IMG_SIZE2 = 20\n",
    "\n",
    "# Resize\n",
    "rowNum2 = imgGray2.shape[0] / IMG_SIZE2\n",
    "colNum2 = imgGray2.shape[1] / IMG_SIZE2\n",
    "\n",
    "rows2 = np.vsplit(imgGray2, rowNum2)  #split each row first\n",
    "\n",
    "digits2 = []\n",
    "for row2 in rows2:\n",
    "    rowCells2 = np.hsplit(row2, colNum2)  #after splitting row, split each col \n",
    "    for digit2 in rowCells2:\n",
    "        digits2.append(digit2)   #each cell rep a particular digit\n",
    "\n",
    "# convert list to np.array\n",
    "digits2 = np.array(digits2)\n",
    "print('digits', digits2.shape)\n",
    "\n",
    "# labels\n",
    "DIGITS_CLASS2 = 10\n",
    "repeatNum2 = len(digits2) / DIGITS_CLASS2\n",
    "labelsT2 = np.repeat(np.arange(DIGITS_CLASS2), repeatNum2)\n",
    "print('labels', labelsT2.shape)\n",
    "\n",
    "own_features2 = []\n",
    "for digit2 in digits2:\n",
    "    img_pixel2 = np.float32(digit2.flatten())  \n",
    "    own_features2.append(img_pixel2)\n",
    "\n",
    "own_features2 = np.squeeze(own_features2)\n",
    "print('features', own_features2.shape)\n",
    "\n",
    "ret, prediction, neighbours, dist = knn.findNearest(own_features2, k)\n",
    "\n",
    "# Compute the accuracy:\n",
    "accuracy = (np.squeeze(prediction) == labelsT2).mean() * 100\n",
    "print(\"Accuracy own handwriting 2: {}\".format(accuracy))\n",
    "print()\n"
   ]
  },
  {
   "cell_type": "code",
   "execution_count": null,
   "id": "940c24b2-06bd-44ec-b874-6031aa2a77a9",
   "metadata": {},
   "outputs": [],
   "source": []
  }
 ],
 "metadata": {
  "kernelspec": {
   "display_name": "Python 3",
   "language": "python",
   "name": "python3"
  },
  "language_info": {
   "codemirror_mode": {
    "name": "ipython",
    "version": 3
   },
   "file_extension": ".py",
   "mimetype": "text/x-python",
   "name": "python",
   "nbconvert_exporter": "python",
   "pygments_lexer": "ipython3",
   "version": "3.8.8"
  }
 },
 "nbformat": 4,
 "nbformat_minor": 5
}

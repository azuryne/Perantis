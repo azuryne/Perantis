{
 "cells": [
  {
   "cell_type": "code",
   "execution_count": 1,
   "id": "59e8658b-8e02-48d5-809b-ab79d5645096",
   "metadata": {},
   "outputs": [
    {
     "name": "stdout",
     "output_type": "stream",
     "text": [
      "dimension (height, width, channel):  (1024, 1024, 3)\n",
      "size (height * width * channel) 3145728\n",
      "datatype uint8\n",
      "10% of image shape (row) is 102\n",
      "10% of image shape (column) is 102\n"
     ]
    }
   ],
   "source": [
    "#QUESTION 1\n",
    "\n",
    "import cv2 as cv \n",
    "\n",
    "try: \n",
    "    filePath = 'flower.jpeg'\n",
    "\n",
    "    img = cv.imread(filePath)\n",
    "\n",
    "    \n",
    "    print('dimension (height, width, channel): ', img.shape)\n",
    "    print('size (height * width * channel)', img.size)\n",
    "    print('datatype', img.dtype)\n",
    "    \n",
    "    imgWithBorder = img.copy()\n",
    "    \n",
    "    l1 = float(imgWithBorder.shape[0])\n",
    "    l2 = float(imgWithBorder.shape[1])\n",
    "    \n",
    "    r1 = int(0.1*l1)\n",
    "    print(\"10% of image shape (row) is\", r1)\n",
    "    \n",
    "    c1 = int(0.1*l2)\n",
    "    print(\"10% of image shape (column) is\", c1)\n",
    "     \n",
    "    \n",
    "    # top border\n",
    "    imgWithBorder[:r1, :] = [1,169,100]\n",
    "\n",
    "    # bottom border \n",
    "    imgWithBorder[-r1:, :] = [180,20,5]\n",
    "    \n",
    "    # left border \n",
    "    imgWithBorder[:, :c1] = [10,70,200]\n",
    "    \n",
    "    # right border \n",
    "    imgWithBorder[:, -c1:] = [20,100,55]\n",
    "    \n",
    "    cv.imshow('with Border', imgWithBorder)\n",
    "    cv.waitKey(0)\n",
    "\n",
    "except Exception as ex: \n",
    "    print(ex)\n",
    "\n",
    "finally: \n",
    "    cv.destroyAllWindows()\n",
    "    cv.waitKey(1)"
   ]
  },
  {
   "cell_type": "code",
   "execution_count": 2,
   "id": "1faf5540-f229-4115-a673-6a00c3932b4e",
   "metadata": {},
   "outputs": [
    {
     "name": "stdout",
     "output_type": "stream",
     "text": [
      "dimension (height, width, channel):  (1024, 1024, 3)\n",
      "size (height * width * channel) 3145728\n",
      "datatype uint8\n",
      "40% of image shape (row) is 409\n",
      "60% of image shape (row) is 614\n",
      "40% of image shape (col) is 409\n",
      "60% of image shape (col) is 614\n"
     ]
    },
    {
     "data": {
      "text/plain": [
       "-1"
      ]
     },
     "execution_count": 2,
     "metadata": {},
     "output_type": "execute_result"
    }
   ],
   "source": [
    "#QUESTION 2\n",
    "\n",
    "import cv2 as cv \n",
    "import matplotlib.pyplot as plt \n",
    "\n",
    "imgWithCenter = imgWithBorder.copy()\n",
    "\n",
    "print('dimension (height, width, channel): ', imgWithCenter.shape)\n",
    "print('size (height * width * channel)', imgWithCenter.size)\n",
    "print('datatype', imgWithCenter.dtype)\n",
    "    \n",
    "l1 = float(imgWithCenter.shape[0])\n",
    "l2 = float(imgWithCenter.shape[1])\n",
    "\n",
    "# 40% from image (row)\n",
    "r2 = int(0.4*l1)\n",
    "print(\"40% of image shape (row) is\", r2)\n",
    "\n",
    "#60% of image (row)\n",
    "r21 = int(0.6*l1)\n",
    "print(\"60% of image shape (row) is\", r21)\n",
    "\n",
    "# 40% from image (col)\n",
    "c2 = int(0.4*l2)\n",
    "print(\"40% of image shape (col) is\", c2)\n",
    "\n",
    "# 60% from image (col)\n",
    "c21 = int(0.6*l2)\n",
    "print(\"60% of image shape (col) is\", c21)\n",
    "    \n",
    "imgWithCenter[r2:r21, c2:c21] = [0, 255, 255]\n",
    "\n",
    "cv.imshow('Middle yellow with border', imgWithCenter)   \n",
    "cv.waitKey(0)\n",
    "\n",
    "cv.imwrite(\"mid_flower.png\", imgWithCenter)\n",
    "\n",
    "cv.destroyAllWindows()\n",
    "cv.waitKey(1)"
   ]
  },
  {
   "cell_type": "code",
   "execution_count": 3,
   "id": "7ea7f669-1700-4165-9e64-596abf65870c",
   "metadata": {},
   "outputs": [
    {
     "name": "stdout",
     "output_type": "stream",
     "text": [
      "dimension (height, width, channel):  (1024, 1024, 3)\n",
      "size (height * width * channel) 3145728\n",
      "datatype uint8\n",
      "dimension (height, width, channel):  (1024, 1024)\n",
      "size (height * width * channel) 1048576\n",
      "datatype uint8\n",
      "10% of image shape (row) is 102\n",
      "10% of image shape (column) is 102\n"
     ]
    },
    {
     "data": {
      "text/plain": [
       "-1"
      ]
     },
     "execution_count": 3,
     "metadata": {},
     "output_type": "execute_result"
    }
   ],
   "source": [
    "# QUESTION 3 \n",
    "\n",
    "import cv2 as cv \n",
    "\n",
    "filePath = 'flower.jpeg'\n",
    "\n",
    "img1 = cv.imread(filePath)\n",
    "\n",
    "print('dimension (height, width, channel): ', img1.shape)\n",
    "print('size (height * width * channel)', img1.size)\n",
    "print('datatype', img1.dtype)\n",
    "\n",
    "# convert to grayscale\n",
    "imgGray = cv.cvtColor(img1, cv.COLOR_BGR2GRAY)  #cv.COLOR_BGR2GRAY\n",
    "\n",
    "print('dimension (height, width, channel): ', imgGray.shape)\n",
    "print('size (height * width * channel)', imgGray.size)\n",
    "print('datatype', imgGray.dtype)\n",
    "\n",
    "w1 = float(imgGray.shape[0])\n",
    "w2 = float(imgGray.shape[1])\n",
    "    \n",
    "q1 = int(0.1*w1)\n",
    "print(\"10% of image shape (row) is\", q1)\n",
    "    \n",
    "q2 = int(0.1*w2)\n",
    "print(\"10% of image shape (column) is\", q2)\n",
    "\n",
    "#top right corner \n",
    "imgGray[:q1, :q2] = 255\n",
    "\n",
    "#bottom right corner\n",
    "imgGray[-q1:, :q2] = 255\n",
    "\n",
    "#top left corner\n",
    "imgGray[:q1, -q2:] = 255\n",
    "\n",
    "#bottom left corner\n",
    "imgGray[-q1:, -q2:] = 255\n",
    "\n",
    "cv.imshow('Gray with small square', imgGray)   \n",
    "cv.waitKey(0)\n",
    "\n",
    "cv.imwrite(\"gray_flower.png\", imgGray)\n",
    "\n",
    "cv.destroyAllWindows()\n",
    "cv.waitKey(1)"
   ]
  },
  {
   "cell_type": "code",
   "execution_count": 4,
   "id": "296eb1fb-add5-4737-9d86-374359e4536c",
   "metadata": {},
   "outputs": [
    {
     "name": "stdout",
     "output_type": "stream",
     "text": [
      "10% of image shape (row) is 102\n",
      "10% of image shape (column) is 102\n"
     ]
    },
    {
     "data": {
      "text/plain": [
       "-1"
      ]
     },
     "execution_count": 4,
     "metadata": {},
     "output_type": "execute_result"
    }
   ],
   "source": [
    "import cv2 as cv  \n",
    "\n",
    "imgGray1 = cv.cvtColor(imgWithBorder, cv.COLOR_BGR2GRAY)\n",
    "\n",
    "w11 = float(imgGray1.shape[0])\n",
    "w22 = float(imgGray1.shape[1])\n",
    "    \n",
    "q11 = int(0.1*w11)\n",
    "print(\"10% of image shape (row) is\", q11)\n",
    "    \n",
    "q22 = int(0.1*w22)\n",
    "print(\"10% of image shape (column) is\", q22)\n",
    "\n",
    "#top right corner \n",
    "imgGray1[:q11, :q22] = 255\n",
    "\n",
    "#bottom right corner\n",
    "imgGray1[-q11:, :q22] = 255\n",
    "\n",
    "#top left corner\n",
    "imgGray1[:q11, -q22:] = 255\n",
    "\n",
    "#bottom left corner\n",
    "imgGray1[-q11:, -q22:] = 255\n",
    "\n",
    "cv.imshow('Gray with small square + border', imgGray1)   \n",
    "cv.waitKey(0)\n",
    "\n",
    "cv.imwrite(\"Ggray_flower.png\", imgGray1)\n",
    "cv.destroyAllWindows()\n",
    "cv.waitKey(1)"
   ]
  },
  {
   "cell_type": "code",
   "execution_count": null,
   "id": "2931514c-3214-4451-8db8-8ce81a27c45e",
   "metadata": {},
   "outputs": [],
   "source": []
  }
 ],
 "metadata": {
  "kernelspec": {
   "display_name": "Python 3",
   "language": "python",
   "name": "python3"
  },
  "language_info": {
   "codemirror_mode": {
    "name": "ipython",
    "version": 3
   },
   "file_extension": ".py",
   "mimetype": "text/x-python",
   "name": "python",
   "nbconvert_exporter": "python",
   "pygments_lexer": "ipython3",
   "version": "3.8.8"
  }
 },
 "nbformat": 4,
 "nbformat_minor": 5
}

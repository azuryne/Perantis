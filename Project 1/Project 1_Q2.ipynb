{
 "cells": [
  {
   "cell_type": "markdown",
   "id": "e952c9c1-6671-41d7-bc83-1123b4765dec",
   "metadata": {},
   "source": [
    "Creating the model"
   ]
  },
  {
   "cell_type": "code",
   "execution_count": 18,
   "id": "cb65b318-b137-4c87-b916-0eb3992985bc",
   "metadata": {},
   "outputs": [
    {
     "name": "stdout",
     "output_type": "stream",
     "text": [
      "(1000, 2000)\n",
      "digits (5000, 20, 20)\n",
      "labels (5000,)\n",
      "features (5000, 400)\n",
      "featureTrain (3333, 400)\n",
      "featureTest (1667, 400)\n",
      "labelTrain (3333,)\n",
      "labelTest (1667,)\n",
      "Training KNN model\n",
      "Accuracy when k=4: 93.94121175764847\n",
      "\n"
     ]
    }
   ],
   "source": [
    "import cv2 as cv\n",
    "import numpy as np\n",
    "import matplotlib.pyplot as plt\n",
    "\n",
    "filename = '../samples/data/digits.png'\n",
    "imgGray = cv.imread(filename, cv.IMREAD_GRAYSCALE)\n",
    "\n",
    "print(imgGray.shape)\n",
    "\n",
    "#### get all the digits\n",
    "IMG_SIZE = 20\n",
    "\n",
    "# Resize\n",
    "rowNum = imgGray.shape[0] / IMG_SIZE\n",
    "colNum = imgGray.shape[1] / IMG_SIZE\n",
    "\n",
    "rows = np.vsplit(imgGray, rowNum)  #split each row first\n",
    "\n",
    "digits = []\n",
    "for row in rows:\n",
    "    rowCells = np.hsplit(row, colNum)  #after splitting row, split each col \n",
    "    for digit in rowCells:\n",
    "        digits.append(digit)   #each cell rep a particular digit\n",
    "\n",
    "# convert list to np.array\n",
    "digits = np.array(digits)\n",
    "print('digits', digits.shape)\n",
    "\n",
    "# labels\n",
    "DIGITS_CLASS = 10\n",
    "repeatNum = len(digits) / DIGITS_CLASS\n",
    "labels = np.repeat(np.arange(DIGITS_CLASS), repeatNum)\n",
    "print('labels', labels.shape)\n",
    "\n",
    "#### get features\n",
    "features = []\n",
    "for digit in digits:\n",
    "    img_pixel = np.float32(digit.flatten())  #flatten 20 by 20 pixel to 1D array of 400 pixel\n",
    "    features.append(img_pixel)\n",
    "\n",
    "features = np.squeeze(features)\n",
    "print('features', features.shape)\n",
    "\n",
    "# shuffle features and labels\n",
    "# seed random for constant random value\n",
    "rand = np.random.RandomState(321)\n",
    "shuffle = rand.permutation(features.shape[0])\n",
    "features, labels = features[shuffle], labels[shuffle]\n",
    "\n",
    "# split into training and testing \n",
    "splitRatio = [2, 1]\n",
    "sumRatio = sum(splitRatio)\n",
    "partition = np.array(splitRatio) * len(features) // sumRatio\n",
    "partition = np.cumsum(partition)\n",
    "\n",
    "featureTrain, featureTest = np.array_split(features, partition[:-1])\n",
    "labelTrain, labelTest = np.array_split(labels, partition[:-1])\n",
    "\n",
    "print('featureTrain', featureTrain.shape)\n",
    "print('featureTest', featureTest.shape)\n",
    "print('labelTrain', labelTrain.shape)\n",
    "print('labelTest', labelTest.shape)\n",
    "\n",
    "# Train the KNN model:\n",
    "print('Training KNN model')\n",
    "knn = cv.ml.KNearest_create()\n",
    "knn.train(featureTrain, cv.ml.ROW_SAMPLE, labelTrain)\n",
    "\n",
    "# Test the created model:\n",
    "k = 4\n",
    "ret, prediction, neighbours, dist = knn.findNearest(featureTest, k)\n",
    "\n",
    "# Compute the accuracy:\n",
    "accuracy = (np.squeeze(prediction) == labelTest).mean() * 100\n",
    "print(\"Accuracy when k=4: {}\".format(accuracy))\n",
    "print()\n"
   ]
  },
  {
   "cell_type": "markdown",
   "id": "7851223e-a0a4-492d-b8fb-85d38d9842e5",
   "metadata": {},
   "source": [
    "Get input list from user for number combination"
   ]
  },
  {
   "cell_type": "code",
   "execution_count": 3,
   "id": "1618eccf-290d-44ae-aab9-3b874336f716",
   "metadata": {},
   "outputs": [
    {
     "name": "stdin",
     "output_type": "stream",
     "text": [
      "Enter the combination random numbers (1-4):  3\n"
     ]
    },
    {
     "name": "stdout",
     "output_type": "stream",
     "text": [
      "\n",
      "\n",
      "Enter number at index 0\n"
     ]
    },
    {
     "name": "stdin",
     "output_type": "stream",
     "text": [
      " 2\n"
     ]
    },
    {
     "name": "stdout",
     "output_type": "stream",
     "text": [
      "Enter number at index 1\n"
     ]
    },
    {
     "name": "stdin",
     "output_type": "stream",
     "text": [
      " 3\n"
     ]
    },
    {
     "name": "stdout",
     "output_type": "stream",
     "text": [
      "Enter number at index 2\n"
     ]
    },
    {
     "name": "stdin",
     "output_type": "stream",
     "text": [
      " 9\n"
     ]
    },
    {
     "name": "stdout",
     "output_type": "stream",
     "text": [
      "User list is: [2, 3, 9] \n",
      "\n"
     ]
    }
   ],
   "source": [
    "# Getting input from user: \n",
    "number_list = []\n",
    "n = int(input(\"Enter the combination random numbers (1-4): \"))\n",
    "\n",
    "print(\"\\n\")\n",
    "\n",
    "if n <= 4:\n",
    "    if n !=0:\n",
    "        for i in range(0, n):\n",
    "            print(\"Enter number at index\", i)\n",
    "            item = int(input())\n",
    "            number_list.append(item)\n",
    "        print(\"User list is:\", number_list, \"\\n\")\n",
    "else:\n",
    "    print(\"Please re-enter\")\n",
    "    "
   ]
  },
  {
   "cell_type": "code",
   "execution_count": null,
   "id": "9e84c1d5-f38f-474e-b5fd-f24d7e6068bf",
   "metadata": {},
   "outputs": [],
   "source": [
    "Compute the prediction based on kNN model created"
   ]
  },
  {
   "cell_type": "code",
   "execution_count": 47,
   "id": "6d04717a-c9e1-44a2-9a12-4dc7d6b3c1e1",
   "metadata": {},
   "outputs": [
    {
     "name": "stdout",
     "output_type": "stream",
     "text": [
      "Image shape: (1000, 2000)\n",
      "digits (5000, 20, 20)\n",
      "len digit 5000\n",
      "features (5000, 400)\n",
      "Random numbers features shape:  (3, 400)\n",
      "Labels shape:  (3,)\n",
      "[2 3 9]\n",
      "Accuracy of number combination: 66.67%\n",
      "Input from user:  [2 3 9]\n",
      "Predicted label:  [2. 4. 9.]\n",
      "\n"
     ]
    }
   ],
   "source": [
    "#### Prediction:\n",
    "import random\n",
    "    \n",
    "np.random.seed(2)\n",
    "\n",
    "filename = '../samples/data/digits.png'\n",
    "\n",
    "imgGray = cv.imread(filename, cv.IMREAD_GRAYSCALE)\n",
    "\n",
    "print(\"Image shape:\", imgGray.shape)\n",
    "\n",
    "IMG_SIZE = 20\n",
    "\n",
    "# Resize\n",
    "rowNum = imgGray.shape[0] / IMG_SIZE\n",
    "colNum = imgGray.shape[1] / IMG_SIZE\n",
    "\n",
    "rows = np.vsplit(imgGray, rowNum) \n",
    "\n",
    "digits = []\n",
    "for row in rows:\n",
    "    rowCells = np.hsplit(row, colNum)   \n",
    "    for digit in rowCells:\n",
    "        digits.append(digit)   \n",
    "\n",
    "##convert list to np.array\n",
    "digits = np.array(digits)\n",
    "print('digits', digits.shape)\n",
    "print('len digit',len(digits))\n",
    "\n",
    "own_features = []\n",
    "for digit in digits:\n",
    "    img_pixel = np.float32(digit.flatten())  \n",
    "    own_features.append(img_pixel)\n",
    "\n",
    "own_features = np.squeeze(own_features)\n",
    "print('features', own_features.shape)\n",
    "\n",
    "new_features = random.sample(list(own_features), n)\n",
    "new_features1 = np.asarray(new_features)\n",
    "print(\"Random numbers features shape: \", new_features1.shape)\n",
    "\n",
    "labels1 = np.array(number_list)\n",
    "print('Labels shape: ', labels1.shape)\n",
    "print(labels1)\n",
    "\n",
    "ret, prediction, neighbours, dist = knn.findNearest(new_features1, k)\n",
    "\n",
    "# Compute the accuracy:\n",
    "accuracy = (np.squeeze(prediction) == labels1).mean() * 100\n",
    "\n",
    "print('Accuracy of number combination: {:.2f}%'.format(accuracy))\n",
    "print(\"Input from user: \", labels1)\n",
    "print(\"Predicted label: \", prediction.flatten())\n",
    "print()"
   ]
  },
  {
   "cell_type": "code",
   "execution_count": null,
   "id": "1ac6fc73-a040-4766-9a33-2a554f21b765",
   "metadata": {},
   "outputs": [],
   "source": []
  }
 ],
 "metadata": {
  "kernelspec": {
   "display_name": "Python 3",
   "language": "python",
   "name": "python3"
  },
  "language_info": {
   "codemirror_mode": {
    "name": "ipython",
    "version": 3
   },
   "file_extension": ".py",
   "mimetype": "text/x-python",
   "name": "python",
   "nbconvert_exporter": "python",
   "pygments_lexer": "ipython3",
   "version": "3.8.8"
  }
 },
 "nbformat": 4,
 "nbformat_minor": 5
}

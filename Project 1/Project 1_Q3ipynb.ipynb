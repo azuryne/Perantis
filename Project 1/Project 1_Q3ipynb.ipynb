{
 "cells": [
  {
   "cell_type": "markdown",
   "id": "06da183c-51d7-4895-a29a-aa2592f4a20a",
   "metadata": {},
   "source": [
    "Face Detection based on Image"
   ]
  },
  {
   "cell_type": "code",
   "execution_count": 7,
   "id": "44594e66-2a3c-422a-a30f-5772ee5fbacc",
   "metadata": {},
   "outputs": [
    {
     "data": {
      "text/plain": [
       "-1"
      ]
     },
     "execution_count": 7,
     "metadata": {},
     "output_type": "execute_result"
    }
   ],
   "source": [
    "#PROJECT 1 Q3 PART 1\n",
    "\n",
    "## IMAGE DETECTION USING CAFFE \n",
    "\n",
    "import cv2 as cv\n",
    "import numpy as np\n",
    "\n",
    "\n",
    "img = cv.imread(\"assets/Gambar.jpg\")\n",
    "\n",
    "# image dimension\n",
    "h, w = img.shape[:2]\n",
    "\n",
    "# load model\n",
    "model = cv.dnn.readNetFromTensorflow(\"../samples/data/opencv_face_detector_uint8.pb\", \"../samples/data/opencv_face_detector.pbtxt\")\n",
    "\n",
    "# preprocessing\n",
    "# image resize to 300x300 by substraction mean vlaues [104., 117., 123.]\n",
    "blob = cv.dnn.blobFromImage(img, 1.0, (300, 300), [\n",
    "                            104., 117., 123.], False, False)\n",
    "\n",
    "# set blob asinput and detect face\n",
    "model.setInput(blob)\n",
    "detections = model.forward()\n",
    "\n",
    "faceCounter = 0\n",
    "# draw detections above limit confidence > 0.7\n",
    "for i in range(0, detections.shape[2]):\n",
    "    # confidence\n",
    "    confidence = detections[0, 0, i, 2]\n",
    "    #\n",
    "    if confidence > 0.7:\n",
    "        # face counter\n",
    "        faceCounter += 1\n",
    "        # get coordinates of the current detection\n",
    "        box = detections[0, 0, i, 3:7] * np.array([w, h, w, h])\n",
    "        (x1, y1, x2, y2) = box.astype(\"int\")\n",
    "\n",
    "        # Draw the detection and the confidence:\n",
    "        cv.rectangle(img, (x1, y1), (x2, y2), (255, 154, 0), 3)\n",
    "        text = \"{:.3f}%\".format(confidence * 100)\n",
    "        y = y1 - 10 if y1 - 10 > 10 else y1 + 10\n",
    "        cv.putText(img, text, (x1, y), cv.FONT_HERSHEY_SIMPLEX, 0.55, (0, 0, 255), 2)\n",
    "        \n",
    "        cv.imshow('Image', img)\n",
    "        \n",
    "        k = cv.waitKey(2000)\n",
    "        \n",
    "        if k == ord(\"q\"):\n",
    "\n",
    "            break\n",
    "\n",
    "cv.destroyAllWindows()\n",
    "cv.waitKey(1)\n",
    "  "
   ]
  },
  {
   "cell_type": "markdown",
   "id": "57849fe5-fe71-4a51-9deb-6934871b54e7",
   "metadata": {},
   "source": [
    "Face detection based on saved video "
   ]
  },
  {
   "cell_type": "code",
   "execution_count": 3,
   "id": "55ad5097-fb06-484e-8cf8-652e8a1a5e19",
   "metadata": {},
   "outputs": [
    {
     "data": {
      "text/plain": [
       "-1"
      ]
     },
     "execution_count": 3,
     "metadata": {},
     "output_type": "execute_result"
    }
   ],
   "source": [
    "# IMAGE DETECTION USING HAARCASCADE BASED ON SAVED VIDEO \n",
    "\n",
    "import cv2 as cv\n",
    "\n",
    "  \n",
    "# Load the cascade  \n",
    "face_cascade = cv.CascadeClassifier(cv.data.haarcascades + 'haarcascade_frontalface_default.xml')\n",
    "  \n",
    "# To capture video from existing video.   \n",
    "cap = cv.VideoCapture('assets/video1.mp4')  \n",
    "  \n",
    "while True:  \n",
    "    # Read the frame  \n",
    "    _, img = cap.read()  \n",
    "  \n",
    "    # Convert to grayscale  \n",
    "    gray = cv.cvtColor(img, cv.COLOR_BGR2GRAY)  \n",
    "  \n",
    "    # Detect the faces  \n",
    "    faces = face_cascade.detectMultiScale(gray, 1.1, 4)  \n",
    "  \n",
    "    # Draw the rectangle around each face  \n",
    "    for (x, y, w, h) in faces:  \n",
    "        cv.rectangle(img, (x, y), (x+w, y+h), (255, 0, 0), 2)  \n",
    "  \n",
    "    # Display  \n",
    "    cv.imshow('Video', img)\n",
    "    \n",
    "    k = cv.waitKey(10) \n",
    "    \n",
    "    # check if key is q then exit\n",
    "    if k == ord(\"q\"):\n",
    "\n",
    "        break\n",
    "\n",
    "cv.destroyAllWindows()\n",
    "cv.waitKey(1)\n",
    "  \n"
   ]
  },
  {
   "cell_type": "markdown",
   "id": "d852fc47-be0d-45f2-9188-5c8a74d4a546",
   "metadata": {},
   "source": [
    "Face Detection based on live camera"
   ]
  },
  {
   "cell_type": "code",
   "execution_count": 3,
   "id": "96211620-fb4d-462b-bb6f-d083b711c0cb",
   "metadata": {},
   "outputs": [
    {
     "data": {
      "text/plain": [
       "-1"
      ]
     },
     "execution_count": 3,
     "metadata": {},
     "output_type": "execute_result"
    }
   ],
   "source": [
    "import face_recognition\n",
    "import cv2 as cv\n",
    "\n",
    "\n",
    "# Open the input movie file\n",
    "capture = cv.VideoCapture(0)\n",
    "\n",
    "\n",
    "# Load some sample pictures and learn how to recognize them.\n",
    "azu_image = face_recognition.load_image_file(\"assets/Passport1.jpg\")\n",
    "azu_face_encoding = face_recognition.face_encodings(azu_image)[0]\n",
    "\n",
    "\n",
    "known_faces = [\n",
    "    azu_face_encoding,\n",
    "\n",
    "]\n",
    "\n",
    "# Initialize some variables\n",
    "face_locations = []\n",
    "face_encodings = []\n",
    "face_names = []\n",
    "frame_number = 0\n",
    "\n",
    "while True:\n",
    "    # Grab a single frame of video\n",
    "    ret, frame = capture.read()\n",
    "    frame_number += 1\n",
    "\n",
    "    # Quit when the input video file ends\n",
    "    if not ret:\n",
    "        break\n",
    "    \n",
    "    # top border\n",
    "    frame[:15, :] = [10,10,100]\n",
    "\n",
    "    # bottom border \n",
    "    frame[-15:, :] = [80,200,80]\n",
    "    \n",
    "    # left border \n",
    "    frame[:, :20] = [5,100,200]\n",
    "    \n",
    "    # right border \n",
    "    frame[:, -20:] = [200,10,60]\n",
    "\n",
    "    # Find all the faces and face encodings in the current frame of video\n",
    "    face_locations = face_recognition.face_locations(frame)\n",
    "    face_encodings = face_recognition.face_encodings(frame, face_locations)\n",
    "\n",
    "    face_names = []\n",
    "    \n",
    "    for face_encoding in face_encodings:\n",
    "        # See if the face is a match for the known face(s)\n",
    "        match = face_recognition.compare_faces(known_faces, face_encoding, tolerance=0.50)\n",
    "\n",
    "        name = None\n",
    "        if match[0]:\n",
    "            name = \"Azureen\"\n",
    "        else:\n",
    "            name = \"Unknown\"\n",
    "\n",
    "        face_names.append(name)\n",
    "\n",
    "    # Label the results\n",
    "    for (top, right, bottom, left), name in zip(face_locations, face_names):\n",
    "        if not name:\n",
    "            continue\n",
    "\n",
    "        # Draw a box around the face\n",
    "        cv.rectangle(frame, (left, top), (right, bottom), (0, 0, 255), 2)\n",
    "\n",
    "        # Draw a label with a name below the face\n",
    "        cv.rectangle(frame, (left, bottom - 25), (right, bottom), (0, 0, 255), cv.FILLED)\n",
    "        font = cv.FONT_HERSHEY_DUPLEX\n",
    "        cv.putText(frame, name, (left + 6, bottom - 6), font, 0.5, (255, 255, 255), 1)\n",
    "        \n",
    "        cv.imshow(\"Camera frame\", frame)\n",
    "    \n",
    "    k = cv.waitKey(10) \n",
    "    \n",
    "    # check if key is q then exit\n",
    "    if k == ord(\"q\"):\n",
    "\n",
    "        break\n",
    "    \n",
    "\n",
    "capture.release()\n",
    "cv.destroyAllWindows()\n",
    "cv.waitKey(1)\n"
   ]
  },
  {
   "cell_type": "code",
   "execution_count": null,
   "id": "3f70495c-381d-40fc-8ff6-0f9252d939d3",
   "metadata": {},
   "outputs": [],
   "source": []
  }
 ],
 "metadata": {
  "kernelspec": {
   "display_name": "Python 3",
   "language": "python",
   "name": "python3"
  },
  "language_info": {
   "codemirror_mode": {
    "name": "ipython",
    "version": 3
   },
   "file_extension": ".py",
   "mimetype": "text/x-python",
   "name": "python",
   "nbconvert_exporter": "python",
   "pygments_lexer": "ipython3",
   "version": "3.8.8"
  }
 },
 "nbformat": 4,
 "nbformat_minor": 5
}

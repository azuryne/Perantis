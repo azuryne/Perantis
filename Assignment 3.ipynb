{
 "cells": [
  {
   "cell_type": "markdown",
   "id": "50863bec-4d96-48d9-b6dc-543314ce8921",
   "metadata": {},
   "source": [
    "Assignment Part 1 (LOOP) \n"
   ]
  },
  {
   "cell_type": "code",
   "execution_count": 1,
   "id": "13876aab-a6bb-4312-b855-19307e02b949",
   "metadata": {},
   "outputs": [
    {
     "name": "stdin",
     "output_type": "stream",
     "text": [
      "Enter value of n:  4\n"
     ]
    },
    {
     "name": "stdout",
     "output_type": "stream",
     "text": [
      "1\n",
      "Number list: [1]\n",
      "3\n",
      "Number list: [1, 2]\n",
      "6\n",
      "Number list: [1, 2, 3]\n",
      "10\n",
      "Number list: [1, 2, 3, 4]\n"
     ]
    }
   ],
   "source": [
    "n = int(input(\"Enter value of n: \"))\n",
    "number = []\n",
    "total = 0\n",
    "\n",
    "for i in range(1, n+1):\n",
    "    total +=i\n",
    "    print(total)\n",
    "    number.append(i)\n",
    "    print(\"Number list:\", number)"
   ]
  },
  {
   "cell_type": "code",
   "execution_count": 2,
   "id": "339b50c8-472c-4433-accc-e366612f9ba0",
   "metadata": {},
   "outputs": [
    {
     "name": "stdin",
     "output_type": "stream",
     "text": [
      "Enter value of n:  4\n"
     ]
    },
    {
     "name": "stdout",
     "output_type": "stream",
     "text": [
      "1\n",
      "Number list: [1]\n",
      "3\n",
      "Number list: [1, 2]\n",
      "6\n",
      "Number list: [1, 2, 3]\n",
      "10\n",
      "Number list: [1, 2, 3, 4]\n"
     ]
    }
   ],
   "source": [
    "n = int(input(\"Enter value of n: \"))\n",
    "total = 0 \n",
    "i = 1\n",
    "number = []\n",
    "\n",
    "while (i <= n): \n",
    "    total = total + i\n",
    "    number.append(i)\n",
    "    i = i + 1\n",
    "    print(total)\n",
    "    print(\"Number list:\", number)\n"
   ]
  },
  {
   "cell_type": "markdown",
   "id": "65a2fdc1-dbf0-46a1-95ff-e7ada7b66a82",
   "metadata": {},
   "source": [
    "Assignment 2 (SET)"
   ]
  },
  {
   "cell_type": "code",
   "execution_count": 3,
   "id": "cf303cd7-7f20-4ed4-bece-50b515298b2d",
   "metadata": {},
   "outputs": [
    {
     "name": "stdout",
     "output_type": "stream",
     "text": [
      "Course that have not passed: {'Rehab', 'Mechanics'}\n"
     ]
    }
   ],
   "source": [
    "# Define a set of course in your major (4)\n",
    "major = {\"Math\", \"Rehab\", \"Mechanics\", \"Python\"}\n",
    "\n",
    "# Define a set of course you passed \n",
    "passed = {\"English\", \"Math\", \"Python\", \"AI\"}\n",
    "\n",
    "# Find out which course you have not passed in your major \n",
    "print(\"Course that have not passed:\", major.difference(passed))"
   ]
  },
  {
   "cell_type": "code",
   "execution_count": 9,
   "id": "961e2f32-7f65-4416-ad28-38d4ee2a9b0a",
   "metadata": {},
   "outputs": [
    {
     "name": "stdout",
     "output_type": "stream",
     "text": [
      "All courses you have taken: {'Mandarin', 'Calculus', 'Electronic', 'AI', 'Math', 'Python', 'English', 'EMT'}\n"
     ]
    }
   ],
   "source": [
    "# Define a set for all course you take\n",
    "\n",
    "course = {\"EMT\", \"English\", \"Calculus\", \"Python\", \"AI\", \"Math\"}\n",
    "failed = {\"Mandarin\", \"Electronic\"}\n",
    "\n",
    "all_course1 = course.union(failed)\n",
    "print(\"All courses you have taken:\", all_course1.union(passed))"
   ]
  },
  {
   "cell_type": "code",
   "execution_count": 10,
   "id": "566f48e5-90c8-4868-b2f6-9759273bbf29",
   "metadata": {},
   "outputs": [
    {
     "name": "stdout",
     "output_type": "stream",
     "text": [
      "Total passed subject in course taken:  {'English', 'Python', 'Math', 'AI'}\n"
     ]
    }
   ],
   "source": [
    "# Course taken previously and passed \n",
    "taken_passed = all_course1.intersection(passed)\n",
    "print(\"Total passed subject in course taken: \", taken_passed)\n"
   ]
  },
  {
   "cell_type": "code",
   "execution_count": 11,
   "id": "3de3cdd2-fb37-4786-9657-205758154987",
   "metadata": {},
   "outputs": [
    {
     "name": "stdout",
     "output_type": "stream",
     "text": [
      "Total failed subjects in course taken: {'Calculus', 'Mandarin', 'Electronic', 'EMT'}\n"
     ]
    }
   ],
   "source": [
    "#Course taken previously and failed\n",
    "\n",
    "taken_failed = all_course1.difference(passed)\n",
    "print(\"Total failed subjects in course taken:\", taken_failed)"
   ]
  },
  {
   "cell_type": "markdown",
   "id": "0a5ec1cf-6561-4ddf-8f73-b6ed807aecc0",
   "metadata": {},
   "source": [
    "Assignment 3 (SET)"
   ]
  },
  {
   "cell_type": "code",
   "execution_count": 12,
   "id": "e48ea0b6-aa93-4ec3-82fc-ba7fdf4d7d93",
   "metadata": {},
   "outputs": [
    {
     "name": "stdout",
     "output_type": "stream",
     "text": [
      "Dictionary: {'sifar': 'zero', 'satu': 'one', 'dua': 'two', 'tiga': 'three', 'empat': 'four', 'lima': 'five'}\n",
      "Length: 6\n",
      "Malay number: dict_keys(['sifar', 'satu', 'dua', 'tiga', 'empat', 'lima'])\n"
     ]
    }
   ],
   "source": [
    "# define malay / english dictionary for numbers 0 to 5 \n",
    "\n",
    "lang1 = {\"sifar\":\"zero\", \"satu\":\"one\", \"dua\":\"two\", \"tiga\":\"three\",\n",
    "        \"empat\":\"four\", \"lima\":\"five\"}\n",
    "print(\"Dictionary:\", lang1)\n",
    "print(\"Length:\", len(lang1))\n",
    "print(\"Malay number:\", lang1.keys())"
   ]
  },
  {
   "cell_type": "code",
   "execution_count": 13,
   "id": "1d49d176-cc97-49b3-a59a-978e4360cd82",
   "metadata": {},
   "outputs": [
    {
     "name": "stdout",
     "output_type": "stream",
     "text": [
      "Dictionary:  {'sifar': 'zero', 'satu': 'one', 'dua': 'two', 'tiga': 'three', 'empat': 'four', 'lima': '', 'tujuh': 'seven', 'lapan': 'eight', 'sembilan': '', 'sepuluh': 'ten'}\n",
      "Is there any missing value? Enter 1 for Yes or 0 for No\n"
     ]
    },
    {
     "name": "stdin",
     "output_type": "stream",
     "text": [
      "  1\n",
      "Enter the english number: lima five\n"
     ]
    },
    {
     "name": "stdout",
     "output_type": "stream",
     "text": [
      "Updated Dictionary:  {'sifar': 'zero', 'satu': 'one', 'dua': 'two', 'tiga': 'three', 'empat': 'four', 'lima': 'five', 'tujuh': 'seven', 'lapan': 'eight', 'sembilan': '', 'sepuluh': 'ten'}\n"
     ]
    },
    {
     "name": "stdin",
     "output_type": "stream",
     "text": [
      "Enter the english number: sembilan nine\n"
     ]
    },
    {
     "name": "stdout",
     "output_type": "stream",
     "text": [
      "Updated Dictionary:  {'sifar': 'zero', 'satu': 'one', 'dua': 'two', 'tiga': 'three', 'empat': 'four', 'lima': 'five', 'tujuh': 'seven', 'lapan': 'eight', 'sembilan': 'nine', 'sepuluh': 'ten'}\n",
      "Is there any missing value? Enter 1 for Yes or 0 for No\n"
     ]
    },
    {
     "name": "stdin",
     "output_type": "stream",
     "text": [
      "  1\n",
      "Enter missing value (Bahasa Melayu): enam\n",
      "Enter missing value (English):  six\n"
     ]
    },
    {
     "name": "stdout",
     "output_type": "stream",
     "text": [
      "Updated Dictionary:  {'sifar': 'zero', 'satu': 'one', 'dua': 'two', 'tiga': 'three', 'empat': 'four', 'lima': 'five', 'tujuh': 'seven', 'lapan': 'eight', 'sembilan': 'nine', 'sepuluh': 'ten', 'enam': 'six'}\n"
     ]
    }
   ],
   "source": [
    "lang = {\"sifar\":\"zero\", \"satu\":\"one\", \"dua\":\"two\", \"tiga\":\"three\",\n",
    "        \"empat\":\"four\", \"lima\":\"\", \"tujuh\":\"seven\", \"lapan\":\"eight\",\n",
    "        \"sembilan\":\"\", \"sepuluh\":\"ten\"}\n",
    "\n",
    "print(\"Dictionary: \", lang)\n",
    "\n",
    "print(\"Is there any missing value? Enter 1 for Yes or 0 for No\")\n",
    "user = int(input(\" \"))\n",
    "\n",
    "key_lang = list(lang.keys())\n",
    "val_lang = list(lang.values())\n",
    "\n",
    "if user == 1: \n",
    "    for i in range(len(val_lang)):\n",
    "        if val_lang[i] == \"\":\n",
    "            new_input = input(f\"Enter the english number: {key_lang[i]}\")\n",
    "            lang[key_lang[i]] =  new_input\n",
    "            print(\"Updated Dictionary: \", lang)\n",
    "            \n",
    "    while val_lang[i] != \"\":\n",
    "        print(\"Is there any missing value? Enter 1 for Yes or 0 for No\")\n",
    "        user = int(input(\" \"))\n",
    "        if user == 1:        \n",
    "            key_lang[i] = input(f\"Enter missing value (Bahasa Melayu):\")\n",
    "            val_lang[i] = input(f\"Enter missing value (English): \")\n",
    "            lang[key_lang[i]] = val_lang[i]\n",
    "            print(\"Updated Dictionary: \", lang)\n",
    "        elif user == 0:\n",
    "            print(\"Thank you\")\n",
    "        else:\n",
    "            print(\"Invalid entry\")\n",
    "        break\n",
    "\n",
    "elif user == 0:\n",
    "    print(\"Thank you\")\n",
    "else:\n",
    "    print(\"Invalid entry\")\n"
   ]
  },
  {
   "cell_type": "code",
   "execution_count": null,
   "id": "9dc791c4-1cb2-4d58-b324-66c0dee2397f",
   "metadata": {},
   "outputs": [],
   "source": []
  }
 ],
 "metadata": {
  "kernelspec": {
   "display_name": "Python 3",
   "language": "python",
   "name": "python3"
  },
  "language_info": {
   "codemirror_mode": {
    "name": "ipython",
    "version": 3
   },
   "file_extension": ".py",
   "mimetype": "text/x-python",
   "name": "python",
   "nbconvert_exporter": "python",
   "pygments_lexer": "ipython3",
   "version": "3.8.8"
  }
 },
 "nbformat": 4,
 "nbformat_minor": 5
}
